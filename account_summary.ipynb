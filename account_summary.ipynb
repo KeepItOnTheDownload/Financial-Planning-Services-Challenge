{
 "cells": [
  {
   "cell_type": "code",
   "execution_count": 1,
   "metadata": {},
   "outputs": [],
   "source": [
    "#Import Dependencies and variables\n",
    "import os\n",
    "import plaid\n",
    "import requests\n",
    "import datetime\n",
    "import json\n",
    "import pandas as pd\n",
    "from pandas.io.json import json_normalize\n",
    "%matplotlib inline"
   ]
  },
  {
   "cell_type": "code",
   "execution_count": 2,
   "metadata": {},
   "outputs": [],
   "source": [
    "def pretty_print_response(response):\n",
    "  print(json.dumps(response, indent=4, sort_keys=True))"
   ]
  },
  {
   "cell_type": "code",
   "execution_count": 3,
   "metadata": {},
   "outputs": [],
   "source": [
    "PLAID_CLIENT_ID = os.getenv('PLAID_CLIENT_ID')\n",
    "PLAID_SBX_SECRET_KEY = os.getenv('PLAID_SBX_SECRET_KEY')\n",
    "PLAID_PUBLIC_KEY = os.getenv('PLAID_PUBLIC_KEY')\n",
    "PLAID_ENV = os.getenv('PLAID_ENV', 'sandbox')\n",
    "PLAID_PRODUCTS = os.getenv('PLAID_PRODUCTS', 'transactions')"
   ]
  },
  {
   "cell_type": "code",
   "execution_count": 4,
   "metadata": {},
   "outputs": [
    {
     "name": "stdout",
     "output_type": "stream",
     "text": [
      "24\n",
      "30\n",
      "30\n"
     ]
    }
   ],
   "source": [
    "print(len(PLAID_CLIENT_ID))\n",
    "print(len(PLAID_PUBLIC_KEY))\n",
    "print(len(PLAID_SBX_SECRET_KEY))"
   ]
  },
  {
   "cell_type": "code",
   "execution_count": 5,
   "metadata": {},
   "outputs": [],
   "source": [
    "# Create client object\n",
    "client = plaid.Client(client_id=PLAID_CLIENT_ID, secret=PLAID_SBX_SECRET_KEY, public_key=PLAID_PUBLIC_KEY, environment= 'sandbox')"
   ]
  },
  {
   "cell_type": "code",
   "execution_count": 6,
   "metadata": {},
   "outputs": [],
   "source": [
    "#select an institution for processing\n",
    "INSTITUTION_ID = \"ins_109508\"\n",
    "\n",
    "# Create public token to be exchanged for institution access token\n",
    "create_tkn_response = client.Sandbox.public_token.create(INSTITUTION_ID, ['transactions','income','assets'])\n",
    "\n",
    "# Exchange public token for access token\n",
    "exchange_response = client.Item.public_token.exchange(create_tkn_response['public_token'])\n",
    "\n",
    "# Store access token as variable\n",
    "access_token = exchange_response['access_token']\n"
   ]
  },
  {
   "cell_type": "code",
   "execution_count": 7,
   "metadata": {},
   "outputs": [
    {
     "data": {
      "text/plain": [
       "{'accounts': [{'account_id': 'No5oBzn3VrSeklv4qPkKhedR7vXDpLcWDg9zR',\n",
       "   'balances': {'available': 100,\n",
       "    'current': 110,\n",
       "    'iso_currency_code': 'USD',\n",
       "    'limit': None,\n",
       "    'unofficial_currency_code': None},\n",
       "   'mask': '0000',\n",
       "   'name': 'Plaid Checking',\n",
       "   'official_name': 'Plaid Gold Standard 0% Interest Checking',\n",
       "   'subtype': 'checking',\n",
       "   'type': 'depository'},\n",
       "  {'account_id': 'P858x3EdRBIox9BP7MxJh1JQl8XjpWH7M9gn3',\n",
       "   'balances': {'available': 200,\n",
       "    'current': 210,\n",
       "    'iso_currency_code': 'USD',\n",
       "    'limit': None,\n",
       "    'unofficial_currency_code': None},\n",
       "   'mask': '1111',\n",
       "   'name': 'Plaid Saving',\n",
       "   'official_name': 'Plaid Silver Standard 0.1% Interest Saving',\n",
       "   'subtype': 'savings',\n",
       "   'type': 'depository'},\n",
       "  {'account_id': 'jjlj9ygK38UGzpjgXDz5H6XRy7jPAzt1XBDkJ',\n",
       "   'balances': {'available': None,\n",
       "    'current': 1000,\n",
       "    'iso_currency_code': 'USD',\n",
       "    'limit': None,\n",
       "    'unofficial_currency_code': None},\n",
       "   'mask': '2222',\n",
       "   'name': 'Plaid CD',\n",
       "   'official_name': 'Plaid Bronze Standard 0.2% Interest CD',\n",
       "   'subtype': 'cd',\n",
       "   'type': 'depository'},\n",
       "  {'account_id': '76E6xZVWv9TlM9axr7MZCMNK9nXRBeUg9mezR',\n",
       "   'balances': {'available': None,\n",
       "    'current': 410,\n",
       "    'iso_currency_code': 'USD',\n",
       "    'limit': 2000,\n",
       "    'unofficial_currency_code': None},\n",
       "   'mask': '3333',\n",
       "   'name': 'Plaid Credit Card',\n",
       "   'official_name': 'Plaid Diamond 12.5% APR Interest Credit Card',\n",
       "   'subtype': 'credit card',\n",
       "   'type': 'credit'},\n",
       "  {'account_id': 'ed5dGAJ84mIr8vx9md8ySPAMdplD5WtLjzpKp',\n",
       "   'balances': {'available': 43200,\n",
       "    'current': 43200,\n",
       "    'iso_currency_code': 'USD',\n",
       "    'limit': None,\n",
       "    'unofficial_currency_code': None},\n",
       "   'mask': '4444',\n",
       "   'name': 'Plaid Money Market',\n",
       "   'official_name': 'Plaid Platinum Standard 1.85% Interest Money Market',\n",
       "   'subtype': 'money market',\n",
       "   'type': 'depository'},\n",
       "  {'account_id': 'QE5EdxWaQ3u7a91jpAadh1wm98NdxJHp8JvLJ',\n",
       "   'balances': {'available': None,\n",
       "    'current': 320.76,\n",
       "    'iso_currency_code': 'USD',\n",
       "    'limit': None,\n",
       "    'unofficial_currency_code': None},\n",
       "   'mask': '5555',\n",
       "   'name': 'Plaid IRA',\n",
       "   'official_name': None,\n",
       "   'subtype': 'ira',\n",
       "   'type': 'investment'},\n",
       "  {'account_id': 'Zv5vZQjGwmUzR95oqAR1f3nGRv9bzWfgKN4wD',\n",
       "   'balances': {'available': None,\n",
       "    'current': 23631.9805,\n",
       "    'iso_currency_code': 'USD',\n",
       "    'limit': None,\n",
       "    'unofficial_currency_code': None},\n",
       "   'mask': '6666',\n",
       "   'name': 'Plaid 401k',\n",
       "   'official_name': None,\n",
       "   'subtype': '401k',\n",
       "   'type': 'investment'},\n",
       "  {'account_id': 'Mp5pzrZB9KI7bMyaRNb6hLoGwd4NpmC9MEqAV',\n",
       "   'balances': {'available': None,\n",
       "    'current': 65262,\n",
       "    'iso_currency_code': 'USD',\n",
       "    'limit': None,\n",
       "    'unofficial_currency_code': None},\n",
       "   'mask': '7777',\n",
       "   'name': 'Plaid Student Loan',\n",
       "   'official_name': None,\n",
       "   'subtype': 'student',\n",
       "   'type': 'loan'}],\n",
       " 'item': {'available_products': ['auth',\n",
       "   'balance',\n",
       "   'credit_details',\n",
       "   'identity',\n",
       "   'investments',\n",
       "   'liabilities'],\n",
       "  'billed_products': ['assets', 'income', 'transactions'],\n",
       "  'error': None,\n",
       "  'institution_id': 'ins_109508',\n",
       "  'item_id': 'g454GnJLwmTBQPlRJ4QauwL7GXWe5ZigbqXBp',\n",
       "  'webhook': ''},\n",
       " 'request_id': 'rl1PGYy7SPl5U3f'}"
      ]
     },
     "execution_count": 7,
     "metadata": {},
     "output_type": "execute_result"
    }
   ],
   "source": [
    "# Test the access token by requesting and printing the available test accounts\n",
    "account_response = client.Accounts.get(access_token)\n",
    "account_response"
   ]
  },
  {
   "cell_type": "code",
   "execution_count": 8,
   "metadata": {},
   "outputs": [
    {
     "data": {
      "text/plain": [
       "dict_keys(['accounts', 'item', 'request_id'])"
      ]
     },
     "execution_count": 8,
     "metadata": {},
     "output_type": "execute_result"
    }
   ],
   "source": [
    "account_response.keys()"
   ]
  },
  {
   "cell_type": "markdown",
   "metadata": {},
   "source": [
    "# Account Transactions with Plaid\n",
    "\n",
    "In this section, you will use the Plaid Python SDK to connect to the Developer Sandbox account and grab a list of transactions. You will need to complete the following steps:\n",
    "\n",
    "\n",
    "1. Use the access token to fetch the transactions for the last 90 days\n",
    "2. Print the categories for each transaction type\n",
    "3. Create a new DataFrame using the following fields from the JSON transaction data: `date, name, amount, category`. (For categories with more than one label, just use the first category label in the list)\n",
    "4. Convert the data types to the appropriate types (i.e. datetimeindex for the date and float for the amount)"
   ]
  },
  {
   "cell_type": "code",
   "execution_count": 9,
   "metadata": {},
   "outputs": [
    {
     "name": "stdout",
     "output_type": "stream",
     "text": [
      "[\n",
      "    {\n",
      "        \"account_id\": \"P858x3EdRBIox9BP7MxJh1JQl8XjpWH7M9gn3\",\n",
      "        \"account_owner\": null,\n",
      "        \"amount\": 25,\n",
      "        \"category\": [\n",
      "            \"Payment\",\n",
      "            \"Credit Card\"\n",
      "        ],\n",
      "        \"category_id\": \"16001000\",\n",
      "        \"date\": \"2019-09-18\",\n",
      "        \"iso_currency_code\": \"USD\",\n",
      "        \"location\": {\n",
      "            \"address\": null,\n",
      "            \"city\": null,\n",
      "            \"country\": null,\n",
      "            \"lat\": null,\n",
      "            \"lon\": null,\n",
      "            \"postal_code\": null,\n",
      "            \"region\": null,\n",
      "            \"store_number\": null\n",
      "        },\n",
      "        \"name\": \"CREDIT CARD 3333 PAYMENT *//\",\n",
      "        \"payment_meta\": {\n",
      "            \"by_order_of\": null,\n",
      "            \"payee\": null,\n",
      "            \"payer\": null,\n",
      "            \"payment_method\": null,\n",
      "            \"payment_processor\": null,\n",
      "            \"ppd_id\": null,\n",
      "            \"reason\": null,\n",
      "            \"reference_number\": null\n",
      "        },\n",
      "        \"pending\": false,\n",
      "        \"pending_transaction_id\": null,\n",
      "        \"transaction_id\": \"3ypyrjvDV9Iw7JloQ47mhreJ9PwbxEfq1mz8A\",\n",
      "        \"transaction_type\": \"special\",\n",
      "        \"unofficial_currency_code\": null\n",
      "    },\n",
      "    {\n",
      "        \"account_id\": \"No5oBzn3VrSeklv4qPkKhedR7vXDpLcWDg9zR\",\n",
      "        \"account_owner\": null,\n",
      "        \"amount\": 5.4,\n",
      "        \"category\": [\n",
      "            \"Travel\",\n",
      "            \"Car Service\",\n",
      "            \"Ride Share\"\n",
      "        ],\n",
      "        \"category_id\": \"22006001\",\n",
      "        \"date\": \"2019-09-18\",\n",
      "        \"iso_currency_code\": \"USD\",\n",
      "        \"location\": {\n",
      "            \"address\": null,\n",
      "            \"city\": null,\n",
      "            \"country\": null,\n",
      "            \"lat\": null,\n",
      "            \"lon\": null,\n",
      "            \"postal_code\": null,\n",
      "            \"region\": null,\n",
      "            \"store_number\": null\n",
      "        },\n",
      "        \"name\": \"Uber 063015 SF**POOL**\",\n",
      "        \"payment_meta\": {\n",
      "            \"by_order_of\": null,\n",
      "            \"payee\": null,\n",
      "            \"payer\": null,\n",
      "            \"payment_method\": null,\n",
      "            \"payment_processor\": null,\n",
      "            \"ppd_id\": null,\n",
      "            \"reason\": null,\n",
      "            \"reference_number\": null\n",
      "        },\n",
      "        \"pending\": false,\n",
      "        \"pending_transaction_id\": null,\n",
      "        \"transaction_id\": \"leKeGv1zgyh43ALWXK3yFgA4yxVRj1SZXalro\",\n",
      "        \"transaction_type\": \"special\",\n",
      "        \"unofficial_currency_code\": null\n",
      "    }\n",
      "]\n"
     ]
    },
    {
     "data": {
      "text/plain": [
       "dict_keys(['accounts', 'item', 'request_id', 'total_transactions', 'transactions'])"
      ]
     },
     "execution_count": 9,
     "metadata": {},
     "output_type": "execute_result"
    }
   ],
   "source": [
    "# Get transactions for institution for specific date range\n",
    "start_date = '{:%Y-%m-%d}'.format(datetime.datetime.now() + datetime.timedelta(-90))\n",
    "end_date = '{:%Y-%m-%d}'.format(datetime.datetime.now())\n",
    "\n",
    "# Use the access token to fetch the transactions for the last 90 days\n",
    "transaction_response = client.Transactions.get(access_token,start_date,end_date)\n",
    "\n",
    "# Print JSON output\n",
    "print(json.dumps(transaction_response['transactions'][:2],indent=4, sort_keys=True))\n",
    "transaction_response.keys()"
   ]
  },
  {
   "cell_type": "code",
   "execution_count": 10,
   "metadata": {},
   "outputs": [
    {
     "name": "stdout",
     "output_type": "stream",
     "text": [
      "{'Car Service', 'Restaurants', 'Sporting Goods', 'Ride Share', 'Debit', 'Transfer', 'Credit', 'Shops', 'Recreation', 'Payment', 'Food and Drink', 'Credit Card', 'Gyms and Fitness Centers', 'Deposit', 'Airlines and Aviation Services', 'Travel', 'Coffee Shop'}\n"
     ]
    }
   ],
   "source": [
    "# Print the categories for each transaction\n",
    "category_info = client.Transactions.get(access_token,start_date,end_date)\n",
    "#if transactions in category_info [\"transactions\"]:\n",
    "    #if transactions ['name'] == \n",
    "#category_info['transactions'][0].key()\n",
    "print({category\n",
    "       for transaction in category_info['transactions'] if transaction['category'] is not None\n",
    "       for category in transaction['category']})\n"
   ]
  },
  {
   "cell_type": "code",
   "execution_count": 49,
   "metadata": {},
   "outputs": [
    {
     "ename": "SyntaxError",
     "evalue": "can't assign to literal (<ipython-input-49-878defc14f27>, line 3)",
     "output_type": "error",
     "traceback": [
      "\u001b[0;36m  File \u001b[0;32m\"<ipython-input-49-878defc14f27>\"\u001b[0;36m, line \u001b[0;32m3\u001b[0m\n\u001b[0;31m    filtered_df = tracks_df[['date', 'amount', 'name', 'category']],index_col=\"date\", infer_datetime_format=True\u001b[0m\n\u001b[0m                                                                             ^\u001b[0m\n\u001b[0;31mSyntaxError\u001b[0m\u001b[0;31m:\u001b[0m can't assign to literal\n"
     ]
    }
   ],
   "source": [
    "# Create a new DataFrame using the following fields from the JSON transaction data: date, name, amount, category.\n",
    "tracks_df = json_normalize(transaction_response, ['transactions'])\n",
    "filtered_df = tracks_df[['date', 'amount', 'name', 'category']],index_col=\"date\", infer_datetime_format=True\n",
    "filtered_df"
   ]
  },
  {
   "cell_type": "markdown",
   "metadata": {},
   "source": [
    "### 4. Convert the data types to the appropriate types \n",
    "\n",
    "(i.e. datetimeindex for the date and float for the amount)"
   ]
  },
  {
   "cell_type": "code",
   "execution_count": 46,
   "metadata": {},
   "outputs": [],
   "source": [
    "filtered_df.set_index(filtered_df['date'], inplace=True)\n"
   ]
  },
  {
   "cell_type": "code",
   "execution_count": 47,
   "metadata": {},
   "outputs": [
    {
     "name": "stderr",
     "output_type": "stream",
     "text": [
      "//anaconda3/lib/python3.7/site-packages/ipykernel_launcher.py:1: SettingWithCopyWarning: \n",
      "A value is trying to be set on a copy of a slice from a DataFrame\n",
      "\n",
      "See the caveats in the documentation: http://pandas.pydata.org/pandas-docs/stable/user_guide/indexing.html#returning-a-view-versus-a-copy\n",
      "  \"\"\"Entry point for launching an IPython kernel.\n"
     ]
    },
    {
     "data": {
      "text/html": [
       "<div>\n",
       "<style scoped>\n",
       "    .dataframe tbody tr th:only-of-type {\n",
       "        vertical-align: middle;\n",
       "    }\n",
       "\n",
       "    .dataframe tbody tr th {\n",
       "        vertical-align: top;\n",
       "    }\n",
       "\n",
       "    .dataframe thead th {\n",
       "        text-align: right;\n",
       "    }\n",
       "</style>\n",
       "<table border=\"1\" class=\"dataframe\">\n",
       "  <thead>\n",
       "    <tr style=\"text-align: right;\">\n",
       "      <th></th>\n",
       "      <th>date</th>\n",
       "      <th>amount</th>\n",
       "      <th>name</th>\n",
       "      <th>category</th>\n",
       "    </tr>\n",
       "    <tr>\n",
       "      <th>date</th>\n",
       "      <th></th>\n",
       "      <th></th>\n",
       "      <th></th>\n",
       "      <th></th>\n",
       "    </tr>\n",
       "  </thead>\n",
       "  <tbody>\n",
       "    <tr>\n",
       "      <td>2019-08-28</td>\n",
       "      <td>2019-08-28</td>\n",
       "      <td>2078.50</td>\n",
       "      <td>AUTOMATIC PAYMENT - THANK</td>\n",
       "      <td>[Payment]</td>\n",
       "    </tr>\n",
       "    <tr>\n",
       "      <td>2019-08-28</td>\n",
       "      <td>2019-08-28</td>\n",
       "      <td>500.00</td>\n",
       "      <td>KFC</td>\n",
       "      <td>[Food and Drink, Restaurants]</td>\n",
       "    </tr>\n",
       "    <tr>\n",
       "      <td>2019-08-28</td>\n",
       "      <td>2019-08-28</td>\n",
       "      <td>500.00</td>\n",
       "      <td>Madison Bicycle Shop</td>\n",
       "      <td>[Shops, Sporting Goods]</td>\n",
       "    </tr>\n",
       "    <tr>\n",
       "      <td>2019-08-29</td>\n",
       "      <td>2019-08-29</td>\n",
       "      <td>500.00</td>\n",
       "      <td>Tectra Inc</td>\n",
       "      <td>[Food and Drink, Restaurants]</td>\n",
       "    </tr>\n",
       "    <tr>\n",
       "      <td>2019-09-01</td>\n",
       "      <td>2019-09-01</td>\n",
       "      <td>6.33</td>\n",
       "      <td>Uber 072515 SF**POOL**</td>\n",
       "      <td>[Travel, Car Service, Ride Share]</td>\n",
       "    </tr>\n",
       "    <tr>\n",
       "      <td>2019-09-03</td>\n",
       "      <td>2019-09-03</td>\n",
       "      <td>500.00</td>\n",
       "      <td>United Airlines</td>\n",
       "      <td>[Travel, Airlines and Aviation Services]</td>\n",
       "    </tr>\n",
       "    <tr>\n",
       "      <td>2019-09-13</td>\n",
       "      <td>2019-09-13</td>\n",
       "      <td>-4.22</td>\n",
       "      <td>INTRST PYMNT</td>\n",
       "      <td>[Transfer, Credit]</td>\n",
       "    </tr>\n",
       "    <tr>\n",
       "      <td>2019-09-14</td>\n",
       "      <td>2019-09-14</td>\n",
       "      <td>89.40</td>\n",
       "      <td>SparkFun</td>\n",
       "      <td>[Food and Drink, Restaurants]</td>\n",
       "    </tr>\n",
       "    <tr>\n",
       "      <td>2019-09-15</td>\n",
       "      <td>2019-09-15</td>\n",
       "      <td>12.00</td>\n",
       "      <td>McDonald's</td>\n",
       "      <td>[Food and Drink, Restaurants]</td>\n",
       "    </tr>\n",
       "    <tr>\n",
       "      <td>2019-09-15</td>\n",
       "      <td>2019-09-15</td>\n",
       "      <td>4.33</td>\n",
       "      <td>Starbucks</td>\n",
       "      <td>[Food and Drink, Restaurants, Coffee Shop]</td>\n",
       "    </tr>\n",
       "    <tr>\n",
       "      <td>2019-09-16</td>\n",
       "      <td>2019-09-16</td>\n",
       "      <td>78.50</td>\n",
       "      <td>Touchstone Climbing</td>\n",
       "      <td>[Recreation, Gyms and Fitness Centers]</td>\n",
       "    </tr>\n",
       "    <tr>\n",
       "      <td>2019-09-16</td>\n",
       "      <td>2019-09-16</td>\n",
       "      <td>-500.00</td>\n",
       "      <td>United Airlines</td>\n",
       "      <td>[Travel, Airlines and Aviation Services]</td>\n",
       "    </tr>\n",
       "    <tr>\n",
       "      <td>2019-09-17</td>\n",
       "      <td>2019-09-17</td>\n",
       "      <td>5850.00</td>\n",
       "      <td>ACH Electronic CreditGUSTO PAY 123456</td>\n",
       "      <td>[Transfer, Debit]</td>\n",
       "    </tr>\n",
       "    <tr>\n",
       "      <td>2019-09-17</td>\n",
       "      <td>2019-09-17</td>\n",
       "      <td>1000.00</td>\n",
       "      <td>CD DEPOSIT .INITIAL.</td>\n",
       "      <td>[Transfer, Deposit]</td>\n",
       "    </tr>\n",
       "    <tr>\n",
       "      <td>2019-09-18</td>\n",
       "      <td>2019-09-18</td>\n",
       "      <td>25.00</td>\n",
       "      <td>CREDIT CARD 3333 PAYMENT *//</td>\n",
       "      <td>[Payment, Credit Card]</td>\n",
       "    </tr>\n",
       "    <tr>\n",
       "      <td>2019-09-18</td>\n",
       "      <td>2019-09-18</td>\n",
       "      <td>5.40</td>\n",
       "      <td>Uber 063015 SF**POOL**</td>\n",
       "      <td>[Travel, Car Service, Ride Share]</td>\n",
       "    </tr>\n",
       "  </tbody>\n",
       "</table>\n",
       "</div>"
      ],
      "text/plain": [
       "                  date   amount                                   name  \\\n",
       "date                                                                     \n",
       "2019-08-28  2019-08-28  2078.50              AUTOMATIC PAYMENT - THANK   \n",
       "2019-08-28  2019-08-28   500.00                                    KFC   \n",
       "2019-08-28  2019-08-28   500.00                   Madison Bicycle Shop   \n",
       "2019-08-29  2019-08-29   500.00                             Tectra Inc   \n",
       "2019-09-01  2019-09-01     6.33                 Uber 072515 SF**POOL**   \n",
       "2019-09-03  2019-09-03   500.00                        United Airlines   \n",
       "2019-09-13  2019-09-13    -4.22                           INTRST PYMNT   \n",
       "2019-09-14  2019-09-14    89.40                               SparkFun   \n",
       "2019-09-15  2019-09-15    12.00                             McDonald's   \n",
       "2019-09-15  2019-09-15     4.33                              Starbucks   \n",
       "2019-09-16  2019-09-16    78.50                    Touchstone Climbing   \n",
       "2019-09-16  2019-09-16  -500.00                        United Airlines   \n",
       "2019-09-17  2019-09-17  5850.00  ACH Electronic CreditGUSTO PAY 123456   \n",
       "2019-09-17  2019-09-17  1000.00                   CD DEPOSIT .INITIAL.   \n",
       "2019-09-18  2019-09-18    25.00           CREDIT CARD 3333 PAYMENT *//   \n",
       "2019-09-18  2019-09-18     5.40                 Uber 063015 SF**POOL**   \n",
       "\n",
       "                                              category  \n",
       "date                                                    \n",
       "2019-08-28                                   [Payment]  \n",
       "2019-08-28               [Food and Drink, Restaurants]  \n",
       "2019-08-28                     [Shops, Sporting Goods]  \n",
       "2019-08-29               [Food and Drink, Restaurants]  \n",
       "2019-09-01           [Travel, Car Service, Ride Share]  \n",
       "2019-09-03    [Travel, Airlines and Aviation Services]  \n",
       "2019-09-13                          [Transfer, Credit]  \n",
       "2019-09-14               [Food and Drink, Restaurants]  \n",
       "2019-09-15               [Food and Drink, Restaurants]  \n",
       "2019-09-15  [Food and Drink, Restaurants, Coffee Shop]  \n",
       "2019-09-16      [Recreation, Gyms and Fitness Centers]  \n",
       "2019-09-16    [Travel, Airlines and Aviation Services]  \n",
       "2019-09-17                           [Transfer, Debit]  \n",
       "2019-09-17                         [Transfer, Deposit]  \n",
       "2019-09-18                      [Payment, Credit Card]  \n",
       "2019-09-18           [Travel, Car Service, Ride Share]  "
      ]
     },
     "execution_count": 47,
     "metadata": {},
     "output_type": "execute_result"
    }
   ],
   "source": [
    "filtered_df.sort_index(inplace=True)\n",
    "filtered_df"
   ]
  },
  {
   "cell_type": "markdown",
   "metadata": {},
   "source": [
    "---"
   ]
  },
  {
   "cell_type": "markdown",
   "metadata": {},
   "source": [
    "# Income Analysis with Plaid\n",
    "\n",
    "In this section, you will use the Plaid Sandbox to complete the following:\n",
    "1. Determine the previous year's gross income and print the results\n",
    "2. Determine the current monthly income and print the results\n",
    "3. Determine the projected yearly income and print the results"
   ]
  },
  {
   "cell_type": "code",
   "execution_count": 17,
   "metadata": {},
   "outputs": [],
   "source": [
    "# YOUR CODE HERE"
   ]
  },
  {
   "cell_type": "markdown",
   "metadata": {},
   "source": [
    "---"
   ]
  },
  {
   "cell_type": "markdown",
   "metadata": {},
   "source": [
    "# Budget Analysis\n",
    "In this section, you will use the transactions DataFrame to analyze the customer's budget\n",
    "\n",
    "1. Calculate the total spending per category and print the results (Hint: groupby or count transactions per category)\n",
    "2. Generate a bar chart with the number of transactions for each category \n",
    "3. Calulate the expenses per month\n",
    "4. Plot the total expenses per month"
   ]
  },
  {
   "cell_type": "markdown",
   "metadata": {},
   "source": [
    "### Calculate the expenses per category"
   ]
  },
  {
   "cell_type": "code",
   "execution_count": 18,
   "metadata": {},
   "outputs": [],
   "source": [
    "# YOUR CODE HERE"
   ]
  },
  {
   "cell_type": "markdown",
   "metadata": {},
   "source": [
    "### Calculate the expenses per month"
   ]
  },
  {
   "cell_type": "code",
   "execution_count": 19,
   "metadata": {},
   "outputs": [],
   "source": [
    "# YOUR CODE HERE"
   ]
  }
 ],
 "metadata": {
  "kernel_info": {
   "name": "dev"
  },
  "kernelspec": {
   "display_name": "Python 3",
   "language": "python",
   "name": "python3"
  },
  "language_info": {
   "codemirror_mode": {
    "name": "ipython",
    "version": 3
   },
   "file_extension": ".py",
   "mimetype": "text/x-python",
   "name": "python",
   "nbconvert_exporter": "python",
   "pygments_lexer": "ipython3",
   "version": "3.7.3"
  },
  "nteract": {
   "version": "0.12.3"
  }
 },
 "nbformat": 4,
 "nbformat_minor": 4
}
