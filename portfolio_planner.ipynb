{
 "cells": [
  {
   "cell_type": "code",
   "execution_count": 1,
   "metadata": {},
   "outputs": [],
   "source": [
    "import numpy as np\n",
    "import pandas as pd\n",
    "from datetime import datetime, timedelta\n",
    "import matplotlib.pyplot as plt\n",
    "%matplotlib inline"
   ]
  },
  {
   "cell_type": "code",
   "execution_count": 2,
   "metadata": {},
   "outputs": [],
   "source": [
    "np.random.seed(42)"
   ]
  },
  {
   "cell_type": "markdown",
   "metadata": {},
   "source": [
    "# Portfolio Planner\n",
    "\n",
    "In this activity, you will use the iedfinance api to grab historical data for a 60/40 portfolio using `SPY` to represent the stock portion and `AGG` to represent the bonds."
   ]
  },
  {
   "cell_type": "code",
   "execution_count": 3,
   "metadata": {},
   "outputs": [],
   "source": [
    "from iexfinance.stocks import get_historical_data\n",
    "import iexfinance as iex\n",
    "from iexfinance.refdata import get_symbols"
   ]
  },
  {
   "cell_type": "markdown",
   "metadata": {},
   "source": [
    "# Data Collection\n",
    "\n",
    "In this step, you will need to use the IEX api to fetch closing prices for the `SPY` and `AGG` tickers. Save the results as a pandas DataFrame"
   ]
  },
  {
   "cell_type": "code",
   "execution_count": 81,
   "metadata": {},
   "outputs": [
    {
     "data": {
      "text/html": [
       "<div>\n",
       "<style scoped>\n",
       "    .dataframe tbody tr th:only-of-type {\n",
       "        vertical-align: middle;\n",
       "    }\n",
       "\n",
       "    .dataframe tbody tr th {\n",
       "        vertical-align: top;\n",
       "    }\n",
       "\n",
       "    .dataframe thead tr th {\n",
       "        text-align: left;\n",
       "    }\n",
       "\n",
       "    .dataframe thead tr:last-of-type th {\n",
       "        text-align: right;\n",
       "    }\n",
       "</style>\n",
       "<table border=\"1\" class=\"dataframe\">\n",
       "  <thead>\n",
       "    <tr>\n",
       "      <th></th>\n",
       "      <th colspan=\"5\" halign=\"left\">SPY</th>\n",
       "      <th colspan=\"5\" halign=\"left\">AGG</th>\n",
       "    </tr>\n",
       "    <tr>\n",
       "      <th></th>\n",
       "      <th>open</th>\n",
       "      <th>high</th>\n",
       "      <th>low</th>\n",
       "      <th>close</th>\n",
       "      <th>volume</th>\n",
       "      <th>open</th>\n",
       "      <th>high</th>\n",
       "      <th>low</th>\n",
       "      <th>close</th>\n",
       "      <th>volume</th>\n",
       "    </tr>\n",
       "    <tr>\n",
       "      <th>date</th>\n",
       "      <th></th>\n",
       "      <th></th>\n",
       "      <th></th>\n",
       "      <th></th>\n",
       "      <th></th>\n",
       "      <th></th>\n",
       "      <th></th>\n",
       "      <th></th>\n",
       "      <th></th>\n",
       "      <th></th>\n",
       "    </tr>\n",
       "  </thead>\n",
       "  <tbody>\n",
       "    <tr>\n",
       "      <td>2018-10-01</td>\n",
       "      <td>292.11</td>\n",
       "      <td>292.93</td>\n",
       "      <td>290.98</td>\n",
       "      <td>291.73</td>\n",
       "      <td>62078937</td>\n",
       "      <td>105.35</td>\n",
       "      <td>105.35</td>\n",
       "      <td>105.20</td>\n",
       "      <td>105.24</td>\n",
       "      <td>3517615</td>\n",
       "    </tr>\n",
       "    <tr>\n",
       "      <td>2018-10-02</td>\n",
       "      <td>291.56</td>\n",
       "      <td>292.36</td>\n",
       "      <td>291.14</td>\n",
       "      <td>291.56</td>\n",
       "      <td>47258227</td>\n",
       "      <td>105.32</td>\n",
       "      <td>105.46</td>\n",
       "      <td>105.25</td>\n",
       "      <td>105.36</td>\n",
       "      <td>6912595</td>\n",
       "    </tr>\n",
       "    <tr>\n",
       "      <td>2018-10-03</td>\n",
       "      <td>292.74</td>\n",
       "      <td>293.21</td>\n",
       "      <td>291.32</td>\n",
       "      <td>291.72</td>\n",
       "      <td>64694594</td>\n",
       "      <td>105.22</td>\n",
       "      <td>105.24</td>\n",
       "      <td>104.75</td>\n",
       "      <td>104.86</td>\n",
       "      <td>2540483</td>\n",
       "    </tr>\n",
       "    <tr>\n",
       "      <td>2018-10-04</td>\n",
       "      <td>291.18</td>\n",
       "      <td>291.24</td>\n",
       "      <td>287.66</td>\n",
       "      <td>289.44</td>\n",
       "      <td>111545910</td>\n",
       "      <td>104.65</td>\n",
       "      <td>104.72</td>\n",
       "      <td>104.47</td>\n",
       "      <td>104.56</td>\n",
       "      <td>5268197</td>\n",
       "    </tr>\n",
       "    <tr>\n",
       "      <td>2018-10-05</td>\n",
       "      <td>289.69</td>\n",
       "      <td>290.27</td>\n",
       "      <td>286.22</td>\n",
       "      <td>287.82</td>\n",
       "      <td>105951698</td>\n",
       "      <td>104.46</td>\n",
       "      <td>104.48</td>\n",
       "      <td>104.19</td>\n",
       "      <td>104.33</td>\n",
       "      <td>3460512</td>\n",
       "    </tr>\n",
       "  </tbody>\n",
       "</table>\n",
       "</div>"
      ],
      "text/plain": [
       "               SPY                                        AGG                  \\\n",
       "              open    high     low   close     volume    open    high     low   \n",
       "date                                                                            \n",
       "2018-10-01  292.11  292.93  290.98  291.73   62078937  105.35  105.35  105.20   \n",
       "2018-10-02  291.56  292.36  291.14  291.56   47258227  105.32  105.46  105.25   \n",
       "2018-10-03  292.74  293.21  291.32  291.72   64694594  105.22  105.24  104.75   \n",
       "2018-10-04  291.18  291.24  287.66  289.44  111545910  104.65  104.72  104.47   \n",
       "2018-10-05  289.69  290.27  286.22  287.82  105951698  104.46  104.48  104.19   \n",
       "\n",
       "                             \n",
       "             close   volume  \n",
       "date                         \n",
       "2018-10-01  105.24  3517615  \n",
       "2018-10-02  105.36  6912595  \n",
       "2018-10-03  104.86  2540483  \n",
       "2018-10-04  104.56  5268197  \n",
       "2018-10-05  104.33  3460512  "
      ]
     },
     "execution_count": 81,
     "metadata": {},
     "output_type": "execute_result"
    }
   ],
   "source": [
    "# Set the ticker\n",
    "list_of_tickers = [\"SPY\", \"AGG\"]\n",
    "\n",
    "# Set Start and end date\n",
    "end_date = datetime.now()\n",
    "start_date = end_date + timedelta(-365)\n",
    "\n",
    "\n",
    "# Get 1 year's worth of historical data for TSLA\n",
    "tickers_df = pd.DataFrame(get_historical_data(list_of_tickers, start_date, end_date, output_format='pandas'))\n",
    "tickers_df.head()"
   ]
  },
  {
   "cell_type": "code",
   "execution_count": 84,
   "metadata": {},
   "outputs": [
    {
     "data": {
      "text/html": [
       "<div>\n",
       "<style scoped>\n",
       "    .dataframe tbody tr th:only-of-type {\n",
       "        vertical-align: middle;\n",
       "    }\n",
       "\n",
       "    .dataframe tbody tr th {\n",
       "        vertical-align: top;\n",
       "    }\n",
       "\n",
       "    .dataframe thead tr th {\n",
       "        text-align: left;\n",
       "    }\n",
       "\n",
       "    .dataframe thead tr:last-of-type th {\n",
       "        text-align: right;\n",
       "    }\n",
       "</style>\n",
       "<table border=\"1\" class=\"dataframe\">\n",
       "  <thead>\n",
       "    <tr>\n",
       "      <th></th>\n",
       "      <th>SPY</th>\n",
       "      <th>AGG</th>\n",
       "    </tr>\n",
       "    <tr>\n",
       "      <th></th>\n",
       "      <th>close</th>\n",
       "      <th>close</th>\n",
       "    </tr>\n",
       "    <tr>\n",
       "      <th>date</th>\n",
       "      <th></th>\n",
       "      <th></th>\n",
       "    </tr>\n",
       "  </thead>\n",
       "  <tbody>\n",
       "    <tr>\n",
       "      <td>2018-10-01</td>\n",
       "      <td>291.73</td>\n",
       "      <td>105.24</td>\n",
       "    </tr>\n",
       "    <tr>\n",
       "      <td>2018-10-02</td>\n",
       "      <td>291.56</td>\n",
       "      <td>105.36</td>\n",
       "    </tr>\n",
       "    <tr>\n",
       "      <td>2018-10-03</td>\n",
       "      <td>291.72</td>\n",
       "      <td>104.86</td>\n",
       "    </tr>\n",
       "    <tr>\n",
       "      <td>2018-10-04</td>\n",
       "      <td>289.44</td>\n",
       "      <td>104.56</td>\n",
       "    </tr>\n",
       "    <tr>\n",
       "      <td>2018-10-05</td>\n",
       "      <td>287.82</td>\n",
       "      <td>104.33</td>\n",
       "    </tr>\n",
       "  </tbody>\n",
       "</table>\n",
       "</div>"
      ],
      "text/plain": [
       "               SPY     AGG\n",
       "             close   close\n",
       "date                      \n",
       "2018-10-01  291.73  105.24\n",
       "2018-10-02  291.56  105.36\n",
       "2018-10-03  291.72  104.86\n",
       "2018-10-04  289.44  104.56\n",
       "2018-10-05  287.82  104.33"
      ]
     },
     "execution_count": 84,
     "metadata": {},
     "output_type": "execute_result"
    }
   ],
   "source": [
    "# Use the `drop` function to drop extra columns in the DataFrame\n",
    "tickers_df.drop(columns=['open', 'high', 'low', 'volume'], level=1, inplace=True)\n",
    "tickers_df.head()"
   ]
  },
  {
   "cell_type": "markdown",
   "metadata": {},
   "source": [
    "# Monte Carlo Simulation\n",
    "\n",
    "In this step, you will run Monte Carlo Simulations for your portfolio to model portfolio performance at different retirement ages. \n",
    "\n",
    "Complete the following steps:\n",
    "1. Calculate the daily returns for the SPY and AGG closing prices.\n",
    "2. Calculate volatility for both the SPY and AGG closing prices.\n",
    "3. Find the last day's closing price for both stocks and save those as variables.\n",
    "4. Run a Monte Carlo Simulation of at least 100 iterations and generate at least 20 years of closing prices\n",
    "\n",
    "### HINTS:\n",
    "There are 252 trading days per year, so the number of records to generate for each Monte Carlo run will be 252 days * 20 years"
   ]
  },
  {
   "cell_type": "code",
   "execution_count": 6,
   "metadata": {},
   "outputs": [
    {
     "data": {
      "text/html": [
       "<div>\n",
       "<style scoped>\n",
       "    .dataframe tbody tr th:only-of-type {\n",
       "        vertical-align: middle;\n",
       "    }\n",
       "\n",
       "    .dataframe tbody tr th {\n",
       "        vertical-align: top;\n",
       "    }\n",
       "\n",
       "    .dataframe thead tr th {\n",
       "        text-align: left;\n",
       "    }\n",
       "\n",
       "    .dataframe thead tr:last-of-type th {\n",
       "        text-align: right;\n",
       "    }\n",
       "</style>\n",
       "<table border=\"1\" class=\"dataframe\">\n",
       "  <thead>\n",
       "    <tr>\n",
       "      <th></th>\n",
       "      <th>SPY</th>\n",
       "      <th>AGG</th>\n",
       "    </tr>\n",
       "    <tr>\n",
       "      <th></th>\n",
       "      <th>close</th>\n",
       "      <th>close</th>\n",
       "    </tr>\n",
       "    <tr>\n",
       "      <th>date</th>\n",
       "      <th></th>\n",
       "      <th></th>\n",
       "    </tr>\n",
       "  </thead>\n",
       "  <tbody>\n",
       "    <tr>\n",
       "      <td>2018-10-01</td>\n",
       "      <td>NaN</td>\n",
       "      <td>NaN</td>\n",
       "    </tr>\n",
       "    <tr>\n",
       "      <td>2018-10-02</td>\n",
       "      <td>-0.000583</td>\n",
       "      <td>0.001140</td>\n",
       "    </tr>\n",
       "    <tr>\n",
       "      <td>2018-10-03</td>\n",
       "      <td>0.000549</td>\n",
       "      <td>-0.004746</td>\n",
       "    </tr>\n",
       "    <tr>\n",
       "      <td>2018-10-04</td>\n",
       "      <td>-0.007816</td>\n",
       "      <td>-0.002861</td>\n",
       "    </tr>\n",
       "    <tr>\n",
       "      <td>2018-10-05</td>\n",
       "      <td>-0.005597</td>\n",
       "      <td>-0.002200</td>\n",
       "    </tr>\n",
       "  </tbody>\n",
       "</table>\n",
       "</div>"
      ],
      "text/plain": [
       "                 SPY       AGG\n",
       "               close     close\n",
       "date                          \n",
       "2018-10-01       NaN       NaN\n",
       "2018-10-02 -0.000583  0.001140\n",
       "2018-10-03  0.000549 -0.004746\n",
       "2018-10-04 -0.007816 -0.002861\n",
       "2018-10-05 -0.005597 -0.002200"
      ]
     },
     "execution_count": 6,
     "metadata": {},
     "output_type": "execute_result"
    }
   ],
   "source": [
    "# Calculate the daily roi for the stocks\n",
    "daily_returns = tickers_df.pct_change()\n",
    "daily_returns.head()"
   ]
  },
  {
   "cell_type": "code",
   "execution_count": 8,
   "metadata": {},
   "outputs": [
    {
     "data": {
      "text/plain": [
       "0.000292545882004136"
      ]
     },
     "execution_count": 8,
     "metadata": {},
     "output_type": "execute_result"
    }
   ],
   "source": [
    "# Calculate volatility\n",
    "avg_daily_return_spy = daily_returns.mean()['SPY']['close']\n",
    "avg_daily_return_agg = daily_returns.mean()['AGG']['close']\n",
    "avg_daily_return_agg"
   ]
  },
  {
   "cell_type": "code",
   "execution_count": 17,
   "metadata": {},
   "outputs": [
    {
     "data": {
      "text/plain": [
       "0.0019596660724796587"
      ]
     },
     "execution_count": 17,
     "metadata": {},
     "output_type": "execute_result"
    }
   ],
   "source": [
    "std_dev_daily_return_spy = daily_returns.std()['SPY']['close']\n",
    "std_dev_daily_return_agg = daily_returns.std()['AGG']['close']\n",
    "std_dev_daily_return_agg"
   ]
  },
  {
   "cell_type": "code",
   "execution_count": 11,
   "metadata": {},
   "outputs": [],
   "source": [
    "# Save the last day's closing price\n",
    "spy_last_price = tickers_df['SPY']['close'][-1]\n",
    "agg_last_price = tickers_df['AGG']['close'][-1]\n"
   ]
  },
  {
   "cell_type": "code",
   "execution_count": 92,
   "metadata": {},
   "outputs": [
    {
     "data": {
      "text/html": [
       "<div>\n",
       "<style scoped>\n",
       "    .dataframe tbody tr th:only-of-type {\n",
       "        vertical-align: middle;\n",
       "    }\n",
       "\n",
       "    .dataframe tbody tr th {\n",
       "        vertical-align: top;\n",
       "    }\n",
       "\n",
       "    .dataframe thead th {\n",
       "        text-align: right;\n",
       "    }\n",
       "</style>\n",
       "<table border=\"1\" class=\"dataframe\">\n",
       "  <thead>\n",
       "    <tr style=\"text-align: right;\">\n",
       "      <th></th>\n",
       "      <th>0</th>\n",
       "      <th>1</th>\n",
       "      <th>2</th>\n",
       "      <th>3</th>\n",
       "      <th>4</th>\n",
       "      <th>5</th>\n",
       "      <th>6</th>\n",
       "      <th>7</th>\n",
       "      <th>8</th>\n",
       "      <th>9</th>\n",
       "      <th>...</th>\n",
       "      <th>490</th>\n",
       "      <th>491</th>\n",
       "      <th>492</th>\n",
       "      <th>493</th>\n",
       "      <th>494</th>\n",
       "      <th>495</th>\n",
       "      <th>496</th>\n",
       "      <th>497</th>\n",
       "      <th>498</th>\n",
       "      <th>499</th>\n",
       "    </tr>\n",
       "  </thead>\n",
       "  <tbody>\n",
       "    <tr>\n",
       "      <td>0</td>\n",
       "      <td>1.000000</td>\n",
       "      <td>1.000000</td>\n",
       "      <td>1.000000</td>\n",
       "      <td>1.000000</td>\n",
       "      <td>1.000000</td>\n",
       "      <td>1.000000</td>\n",
       "      <td>1.000000</td>\n",
       "      <td>1.000000</td>\n",
       "      <td>1.000000</td>\n",
       "      <td>1.000000</td>\n",
       "      <td>...</td>\n",
       "      <td>1.000000</td>\n",
       "      <td>1.000000</td>\n",
       "      <td>1.000000</td>\n",
       "      <td>1.000000</td>\n",
       "      <td>1.000000</td>\n",
       "      <td>1.000000</td>\n",
       "      <td>1.000000</td>\n",
       "      <td>1.000000</td>\n",
       "      <td>1.000000</td>\n",
       "      <td>1.000000</td>\n",
       "    </tr>\n",
       "    <tr>\n",
       "      <td>1</td>\n",
       "      <td>1.005749</td>\n",
       "      <td>1.009593</td>\n",
       "      <td>1.004254</td>\n",
       "      <td>1.008469</td>\n",
       "      <td>1.009880</td>\n",
       "      <td>1.001492</td>\n",
       "      <td>0.988616</td>\n",
       "      <td>0.991219</td>\n",
       "      <td>1.000920</td>\n",
       "      <td>1.000142</td>\n",
       "      <td>...</td>\n",
       "      <td>0.997309</td>\n",
       "      <td>1.011903</td>\n",
       "      <td>0.995099</td>\n",
       "      <td>0.997039</td>\n",
       "      <td>0.990628</td>\n",
       "      <td>1.005459</td>\n",
       "      <td>1.001072</td>\n",
       "      <td>0.996632</td>\n",
       "      <td>1.007683</td>\n",
       "      <td>0.995166</td>\n",
       "    </tr>\n",
       "    <tr>\n",
       "      <td>2</td>\n",
       "      <td>1.010999</td>\n",
       "      <td>1.001342</td>\n",
       "      <td>1.007282</td>\n",
       "      <td>0.999483</td>\n",
       "      <td>1.002328</td>\n",
       "      <td>0.999096</td>\n",
       "      <td>0.993522</td>\n",
       "      <td>0.978906</td>\n",
       "      <td>1.012910</td>\n",
       "      <td>0.994462</td>\n",
       "      <td>...</td>\n",
       "      <td>1.000058</td>\n",
       "      <td>0.996068</td>\n",
       "      <td>0.986174</td>\n",
       "      <td>0.984845</td>\n",
       "      <td>0.996717</td>\n",
       "      <td>1.009323</td>\n",
       "      <td>1.016796</td>\n",
       "      <td>1.000364</td>\n",
       "      <td>1.011775</td>\n",
       "      <td>0.992901</td>\n",
       "    </tr>\n",
       "    <tr>\n",
       "      <td>3</td>\n",
       "      <td>1.024330</td>\n",
       "      <td>0.995513</td>\n",
       "      <td>0.997331</td>\n",
       "      <td>0.989304</td>\n",
       "      <td>0.999352</td>\n",
       "      <td>0.999650</td>\n",
       "      <td>1.000981</td>\n",
       "      <td>0.986859</td>\n",
       "      <td>1.011477</td>\n",
       "      <td>0.993775</td>\n",
       "      <td>...</td>\n",
       "      <td>0.999317</td>\n",
       "      <td>0.999496</td>\n",
       "      <td>0.984972</td>\n",
       "      <td>0.999085</td>\n",
       "      <td>0.998617</td>\n",
       "      <td>0.998538</td>\n",
       "      <td>1.013231</td>\n",
       "      <td>1.009352</td>\n",
       "      <td>1.026773</td>\n",
       "      <td>0.994464</td>\n",
       "    </tr>\n",
       "    <tr>\n",
       "      <td>4</td>\n",
       "      <td>1.021978</td>\n",
       "      <td>1.002207</td>\n",
       "      <td>1.007251</td>\n",
       "      <td>0.992687</td>\n",
       "      <td>0.999469</td>\n",
       "      <td>1.010365</td>\n",
       "      <td>1.010262</td>\n",
       "      <td>0.985210</td>\n",
       "      <td>1.006150</td>\n",
       "      <td>0.994801</td>\n",
       "      <td>...</td>\n",
       "      <td>1.002032</td>\n",
       "      <td>1.003496</td>\n",
       "      <td>0.976202</td>\n",
       "      <td>0.999825</td>\n",
       "      <td>0.986196</td>\n",
       "      <td>1.001249</td>\n",
       "      <td>1.010843</td>\n",
       "      <td>1.005414</td>\n",
       "      <td>1.021938</td>\n",
       "      <td>1.003509</td>\n",
       "    </tr>\n",
       "  </tbody>\n",
       "</table>\n",
       "<p>5 rows × 500 columns</p>\n",
       "</div>"
      ],
      "text/plain": [
       "        0         1         2         3         4         5         6    \\\n",
       "0  1.000000  1.000000  1.000000  1.000000  1.000000  1.000000  1.000000   \n",
       "1  1.005749  1.009593  1.004254  1.008469  1.009880  1.001492  0.988616   \n",
       "2  1.010999  1.001342  1.007282  0.999483  1.002328  0.999096  0.993522   \n",
       "3  1.024330  0.995513  0.997331  0.989304  0.999352  0.999650  1.000981   \n",
       "4  1.021978  1.002207  1.007251  0.992687  0.999469  1.010365  1.010262   \n",
       "\n",
       "        7         8         9    ...       490       491       492       493  \\\n",
       "0  1.000000  1.000000  1.000000  ...  1.000000  1.000000  1.000000  1.000000   \n",
       "1  0.991219  1.000920  1.000142  ...  0.997309  1.011903  0.995099  0.997039   \n",
       "2  0.978906  1.012910  0.994462  ...  1.000058  0.996068  0.986174  0.984845   \n",
       "3  0.986859  1.011477  0.993775  ...  0.999317  0.999496  0.984972  0.999085   \n",
       "4  0.985210  1.006150  0.994801  ...  1.002032  1.003496  0.976202  0.999825   \n",
       "\n",
       "        494       495       496       497       498       499  \n",
       "0  1.000000  1.000000  1.000000  1.000000  1.000000  1.000000  \n",
       "1  0.990628  1.005459  1.001072  0.996632  1.007683  0.995166  \n",
       "2  0.996717  1.009323  1.016796  1.000364  1.011775  0.992901  \n",
       "3  0.998617  0.998538  1.013231  1.009352  1.026773  0.994464  \n",
       "4  0.986196  1.001249  1.010843  1.005414  1.021938  1.003509  \n",
       "\n",
       "[5 rows x 500 columns]"
      ]
     },
     "execution_count": 92,
     "metadata": {},
     "output_type": "execute_result"
    }
   ],
   "source": [
    "# Setup the Monte Carlo Parameters\n",
    "number_simulations = 500\n",
    "number_records = 252 * 30\n",
    "\n",
    "monte_carlo = pd.DataFrame()\n",
    "simulated_price_df = pd.DataFrame()\n",
    "portfolio_cumulative_returns = pd.DataFrame()\n",
    "\n",
    "# Run the Monte Carlo Simulation\n",
    "for n in range(number_simulations):\n",
    "   # Initialize the simulated prices list with the last closing price of `TSLA` and `SPHD`\n",
    "    simulated_spy_prices = [spy_last_price]\n",
    "    simulated_agg_prices = [agg_last_price]\n",
    "    \n",
    "    # Simulate the returns for 252 * 3 days\n",
    "    for i in range(number_records):\n",
    "        \n",
    "        # Calculate the simulated price using the last price within the list\n",
    "        simulated_spy_price = simulated_spy_prices[-1] * (1 + np.random.normal(avg_daily_return_spy, std_dev_daily_return_spy))\n",
    "        simulated_agg_price = simulated_agg_prices[-1] * (1 + np.random.normal(avg_daily_return_agg, std_dev_daily_return_agg))\n",
    "        \n",
    "        # Append the simulated price to the list\n",
    "        simulated_spy_prices.append(simulated_spy_price)\n",
    "        simulated_agg_prices.append(simulated_agg_price)\n",
    "    \n",
    "    # Append a simulated prices of each simulation to DataFrame\n",
    "    simulated_price_df[\"SPY prices\"] = pd.Series(simulated_spy_prices)\n",
    "    simulated_price_df[\"AGG prices\"] = pd.Series(simulated_agg_prices)\n",
    "    \n",
    "    # Calculate the daily returns of simulated prices\n",
    "    simulated_daily_returns = simulated_price_df.pct_change()\n",
    "    \n",
    "    # Set the portfolio weights (60% SPY; 40% AGG)\n",
    "    weights = [0.60, 0.40]\n",
    "\n",
    "    # Use the `dot` function with the weights to multiply weights with each column's simulated daily returns\n",
    "    portfolio_daily_returns = simulated_daily_returns.dot(weights)\n",
    "    \n",
    "    # Calculate the normalized, cumulative return series\n",
    "    portfolio_cumulative_returns[n] = (1 + portfolio_daily_returns.fillna(0)).cumprod()\n",
    "\n",
    "# Print records from the DataFrame\n",
    "portfolio_cumulative_returns.head()"
   ]
  },
  {
   "cell_type": "code",
   "execution_count": 93,
   "metadata": {},
   "outputs": [
    {
     "data": {
      "text/plain": [
       "<matplotlib.axes._subplots.AxesSubplot at 0x11d0cb5c0>"
      ]
     },
     "execution_count": 93,
     "metadata": {},
     "output_type": "execute_result"
    },
    {
     "data": {
      "image/png": "[encoded data removed]",
      "text/plain": [
       "<Figure size 432x288 with 1 Axes>"
      ]
     },
     "metadata": {
      "needs_background": "light"
     },
     "output_type": "display_data"
    }
   ],
   "source": [
    "# Visualize the Simulation\n",
    "plot_title = f\"{n+1} Simulations of Cumulative Portfolio Return Trajectories Over the Next 252 Trading Days\"\n",
    "portfolio_cumulative_returns.plot(legend=None, title=plot_title)"
   ]
  },
  {
   "cell_type": "code",
   "execution_count": 95,
   "metadata": {},
   "outputs": [
    {
     "data": {
      "text/plain": [
       "0    3.540626\n",
       "1    3.533390\n",
       "2    3.071415\n",
       "3    3.024631\n",
       "4    5.006140\n",
       "Name: 7560, dtype: float64"
      ]
     },
     "execution_count": 95,
     "metadata": {},
     "output_type": "execute_result"
    }
   ],
   "source": [
    "# Select the last row for the cumulative returns (cumulative returns at 30 years)\n",
    "ending_cumulative_returns = portfolio_cumulative_returns.iloc[-1, :]\n",
    "ending_cumulative_returns.head()"
   ]
  },
  {
   "cell_type": "code",
   "execution_count": 96,
   "metadata": {},
   "outputs": [
    {
     "data": {
      "text/plain": [
       "<matplotlib.axes._subplots.AxesSubplot at 0x12df042e8>"
      ]
     },
     "execution_count": 96,
     "metadata": {},
     "output_type": "execute_result"
    },
    {
     "data": {
      "image/png": "[encoded data removed]",
      "text/plain": [
       "<Figure size 432x288 with 1 Axes>"
      ]
     },
     "metadata": {
      "needs_background": "light"
     },
     "output_type": "display_data"
    }
   ],
   "source": [
    "# Use the `plot` function to plot a frequency distribution of simulated ending prices\n",
    "ending_cumulative_returns.plot(kind='hist', bins=10)"
   ]
  },
  {
   "cell_type": "code",
   "execution_count": 97,
   "metadata": {},
   "outputs": [
    {
     "data": {
      "text/plain": [
       "(1.925, 3.204]      0.262\n",
       "(3.204, 4.482]      0.260\n",
       "(4.482, 5.76]       0.154\n",
       "(0.633, 1.925]      0.126\n",
       "(5.76, 7.039]       0.102\n",
       "(7.039, 8.317]      0.042\n",
       "(8.317, 9.595]      0.028\n",
       "(10.874, 12.152]    0.014\n",
       "(9.595, 10.874]     0.008\n",
       "(12.152, 13.431]    0.004\n",
       "Name: 7560, dtype: float64"
      ]
     },
     "execution_count": 97,
     "metadata": {},
     "output_type": "execute_result"
    }
   ],
   "source": [
    "# Use the `value_counts` function and the `len` function to calculate the probabilities of cumulative return ranges\n",
    "ending_cumulative_returns.value_counts(bins=10) / len(ending_cumulative_returns)"
   ]
  },
  {
   "cell_type": "code",
   "execution_count": 98,
   "metadata": {},
   "outputs": [
    {
     "data": {
      "text/plain": [
       "0.1    1.660710\n",
       "0.9    7.015592\n",
       "Name: 7560, dtype: float64"
      ]
     },
     "execution_count": 98,
     "metadata": {},
     "output_type": "execute_result"
    }
   ],
   "source": [
    "# Display the 90% confidence interval for the ending returns\n",
    "confidence_interval = ending_cumulative_returns.quantile(q=[0.10, 0.90])\n",
    "confidence_interval"
   ]
  },
  {
   "cell_type": "code",
   "execution_count": 99,
   "metadata": {},
   "outputs": [
    {
     "data": {
      "text/plain": [
       "<matplotlib.lines.Line2D at 0x12ddba048>"
      ]
     },
     "execution_count": 99,
     "metadata": {},
     "output_type": "execute_result"
    },
    {
     "data": {
      "image/png": "[encoded data removed]",
      "text/plain": [
       "<Figure size 432x288 with 1 Axes>"
      ]
     },
     "metadata": {
      "needs_background": "light"
     },
     "output_type": "display_data"
    }
   ],
   "source": [
    "# Visualize the distribution of the ending returns\n",
    "plt.figure();\n",
    "ending_cumulative_returns.plot(kind='hist', density=True, bins=10)\n",
    "plt.axvline(confidence_interval.iloc[0], color='r')\n",
    "plt.axvline(confidence_interval.iloc[1], color='r')"
   ]
  },
  {
   "cell_type": "markdown",
   "metadata": {},
   "source": [
    "---"
   ]
  },
  {
   "cell_type": "markdown",
   "metadata": {},
   "source": [
    "# Retirement Analysis\n",
    "\n",
    "In this section, you will use the monte carlo model to answer the following retirement planning questions:\n",
    "\n",
    "1. What are the expected cumulative returns at 30 years for the 10th, 50th, and 90th percentiles?\n",
    "2. Given an initial investment of `$20,000`, what is the expected portfolio return in dollars at the 10th, 50th, and 90th percentiles?\n",
    "3. Given the current projected annual income from the Plaid analysis, will a 4% withdraw rate from the retirement portfolio meet or exceed that value at the 10th percentile?\n",
    "4. How would a 50% increase in the initial investment amount affect the 4% retirement withdrawal?"
   ]
  },
  {
   "cell_type": "markdown",
   "metadata": {},
   "source": [
    "### What are the expected cumulative returns at 30 years for the 10th, 50th, and 90th percentiles?"
   ]
  },
  {
   "cell_type": "code",
   "execution_count": 116,
   "metadata": {},
   "outputs": [
    {
     "data": {
      "text/plain": [
       "0.1    1.660710\n",
       "0.5    3.729392\n",
       "0.9    7.015592\n",
       "Name: 7560, dtype: float64"
      ]
     },
     "execution_count": 116,
     "metadata": {},
     "output_type": "execute_result"
    }
   ],
   "source": [
    "#expected cumulative returns at 30 years for the 10th, 50th, and 90th percentiles\n",
    "\n",
    "confidence_interval = ending_cumulative_returns.quantile(q=[0.10,.50, 0.90])\n",
    "confidence_interval"
   ]
  },
  {
   "cell_type": "code",
   "execution_count": 114,
   "metadata": {},
   "outputs": [],
   "source": [
    "#tenth percentile = initial_investment * confidence_interval.iloc[0]\n",
    "\n"
   ]
  },
  {
   "cell_type": "markdown",
   "metadata": {},
   "source": [
    "### Given an initial investment of `$20,000`, what is the expected portfolio return in dollars at the 10th, 50th, and 90th percentiles?"
   ]
  },
  {
   "cell_type": "code",
   "execution_count": null,
   "metadata": {},
   "outputs": [],
   "source": []
  },
  {
   "cell_type": "code",
   "execution_count": 125,
   "metadata": {},
   "outputs": [
    {
     "name": "stdout",
     "output_type": "stream",
     "text": [
      "Expected retunrs at 10th Percentile: 33214.199309700525\n",
      "Expected retunrs at 50th Percentile: 74587.84918954172\n",
      "Expected retunrs at 90th Percentile: 140311.83864399258\n"
     ]
    }
   ],
   "source": [
    "#Intital Investment at 90th percentile\n",
    "\n",
    "# Set initial investment\n",
    "initial_investment = 20000\n",
    "\n",
    "tenth_percentile = initial_investment * confidence_interval.iloc[0]\n",
    "fith_percentile = initial_investment * confidence_interval.iloc[1]\n",
    "nineth_percentile = initial_investment * confidence_interval.iloc[2]\n",
    "\n",
    "#cumulative_pnl_lower_bound = initial_investment * ((confidence_interval.iloc[0] - spy_last_price) / spy_last_price)\n",
    "#cumulative_pnl_upper_bound = initial_investment * ((confidence_interval.iloc[1] - agg_last_price) / agg_last_price)\n",
    "#\n",
    "# Add the initial investment to the cumulative profit/loss of lower and upper bound\n",
    "#ending_investment_lower_bound = initial_investment + cumulative_pnl_lower_bound\n",
    "#ending_investment_upper_bound = initial_investment + cumulative_pnl_upper_bound\n",
    "\n",
    "#print(\"10% quantile =\",np.percentile(ending_cumulative_returns,10))\n",
    "#print(\"50% quantile =\",np.percentile(ending_cumulative_returns,50))\n",
    "#print(\"90% quantile =\",np.percentile(ending_cumulative_returns,90))\n",
    "\n",
    "#Print the results\n",
    "#print(f\"There is a 90% chance that an initial investment of $20,000 in the portfolio\"\n",
    " #     f\" over the next 252 trading days will end within in the range of\"\n",
    " #     f\" ${ending_investment_lower_bound} and ${ending_investment_upper_bound}\")\n",
    "\n",
    "print(f'Expected retunrs at 10th Percentile: {tenth_percentile}')\n",
    "print(f'Expected retunrs at 50th Percentile: {fith_percentile}')\n",
    "print(f'Expected retunrs at 90th Percentile: {nineth_percentile}')"
   ]
  },
  {
   "cell_type": "code",
   "execution_count": 117,
   "metadata": {},
   "outputs": [
    {
     "name": "stdout",
     "output_type": "stream",
     "text": [
      "There is a 10% chance that an initial investment of $20,000 in the portfolio over the next 252 trading days will end within in the range of $173943.1663843847 and $37497.692079560875\n"
     ]
    }
   ],
   "source": [
    "#Intital Investment at 10th percentile\n",
    "\n",
    "# Set initial investment\n",
    "initial_investment = 20000\n",
    "\n",
    "cumulative_pnl_lower_bound = initial_investment * ((confidence_interval.iloc[0] - spy_last_price) / spy_last_price)\n",
    "cumulative_pnl_upper_bound = initial_investment * ((confidence_interval.iloc[1] - agg_last_price) / agg_last_price)\n",
    "\n",
    "# Add the initial investment to the cumulative profit/loss of lower and upper bound\n",
    "ending_investment_lower_bound = initial_investment + cumulative_pnl_lower_bound\n",
    "ending_investment_upper_bound = initial_investment + cumulative_pnl_upper_bound\n",
    "\n",
    "#Print the results\n",
    "print(f\"There is a 10% chance that an initial investment of $20,000 in the portfolio\"\n",
    "      f\" over the next 252 trading days will end within in the range of\"\n",
    "      f\" ${investment_pnl_lower_bound} and ${investment_pnl_upper_bound}\")"
   ]
  },
  {
   "cell_type": "markdown",
   "metadata": {},
   "source": [
    "### Given the current projected annual income from the Plaid analysis, will a 4% withdraw rate from the retirement portfolio meet or exceed that value at the 10th percentile?\n",
    "\n",
    "The four percent withdraw rate will exceed the value at the 10th percentile"
   ]
  },
  {
   "cell_type": "code",
   "execution_count": 110,
   "metadata": {},
   "outputs": [
    {
     "name": "stdout",
     "output_type": "stream",
     "text": [
      "False\n"
     ]
    }
   ],
   "source": [
    "answer = (tenth_percentile + initial_investment) * .04\n",
    "\n",
    "if answer > 6085:\n",
    "    print(True)\n",
    "else: \n",
    "    print(False)"
   ]
  },
  {
   "cell_type": "markdown",
   "metadata": {},
   "source": [
    "### How would a 50% increase in the initial investment amount affect the 4% retirement withdrawal?\n",
    "\n",
    "A 50% increase would not exceed the value"
   ]
  },
  {
   "cell_type": "code",
   "execution_count": 126,
   "metadata": {},
   "outputs": [
    {
     "name": "stdout",
     "output_type": "stream",
     "text": [
      "Expected retunrs at 10th Percentile: 33214.199309700525\n",
      "Expected retunrs at 50th Percentile: 74587.84918954172\n",
      "Expected retunrs at 90th Percentile: 140311.83864399258\n"
     ]
    }
   ],
   "source": [
    "initial_investment = 20000\n",
    "\n",
    "tenth_percentile = initial_investment * confidence_interval.iloc[0]\n",
    "fith_percentile = initial_investment * confidence_interval.iloc[1]\n",
    "nineth_percentile = initial_investment * confidence_interval.iloc[2]\n",
    "print(f'Expected retunrs at 10th Percentile: {tenth_percentile}')\n",
    "print(f'Expected retunrs at 50th Percentile: {fith_percentile}')\n",
    "print(f'Expected retunrs at 90th Percentile: {nineth_percentile}')"
   ]
  },
  {
   "cell_type": "markdown",
   "metadata": {},
   "source": [
    "### Optional Challenge\n",
    "\n",
    "In this section, you will calculate and plot the cumulative returns for the median and 90% confidence intervals. This plot shows the expected cumulative returns for any given day between the first day and the last day of investment. "
   ]
  },
  {
   "cell_type": "code",
   "execution_count": null,
   "metadata": {},
   "outputs": [],
   "source": [
    "# YOUR CODE HERE"
   ]
  }
 ],
 "metadata": {
  "kernel_info": {
   "name": "dev"
  },
  "kernelspec": {
   "display_name": "Python 3",
   "language": "python",
   "name": "python3"
  },
  "language_info": {
   "codemirror_mode": {
    "name": "ipython",
    "version": 3
   },
   "file_extension": ".py",
   "mimetype": "text/x-python",
   "name": "python",
   "nbconvert_exporter": "python",
   "pygments_lexer": "ipython3",
   "version": "3.7.3"
  },
  "nteract": {
   "version": "0.12.3"
  }
 },
 "nbformat": 4,
 "nbformat_minor": 4
}
