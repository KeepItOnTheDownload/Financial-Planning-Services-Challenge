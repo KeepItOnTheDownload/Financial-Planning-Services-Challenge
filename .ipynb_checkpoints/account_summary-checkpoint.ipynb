{
 "cells": [
  {
   "cell_type": "code",
   "execution_count": 1,
   "metadata": {},
   "outputs": [],
   "source": [
    "import os\n",
    "import plaid\n",
    "import requests\n",
    "import datetime\n",
    "import json\n",
    "import pandas as pd\n",
    "import numpy as np\n",
    "from pandas.io.json import json_normalize\n",
    "%matplotlib inline"
   ]
  },
  {
   "cell_type": "code",
   "execution_count": 2,
   "metadata": {},
   "outputs": [],
   "source": [
    "def pretty_print_response(response):\n",
    "    print(json.dumps(response, indent=4, sort_keys=True))"
   ]
  },
  {
   "cell_type": "code",
   "execution_count": null,
   "metadata": {},
   "outputs": [],
   "source": []
  },
  {
   "cell_type": "code",
   "execution_count": 3,
   "metadata": {},
   "outputs": [],
   "source": [
    "PLAID_CLIENT_ID = os.getenv('PLAID_CLIENT_ID')\n",
    "PLAID_SBX_SECRET_KEY = os.getenv('PLAID_SBX_SECRET_KEY')\n",
    "PLAID_PUBLIC_KEY = os.getenv('PLAID_PUBLIC_KEY')\n",
    "PLAID_ENV = os.getenv('PLAID_ENV', 'sandbox')\n",
    "PLAID_PRODUCTS = os.getenv('PLAID_PRODUCTS', 'transactions')"
   ]
  },
  {
   "cell_type": "code",
   "execution_count": 4,
   "metadata": {},
   "outputs": [
    {
     "name": "stdout",
     "output_type": "stream",
     "text": [
      "24\n",
      "30\n",
      "30\n"
     ]
    }
   ],
   "source": [
    "print(len(PLAID_CLIENT_ID))\n",
    "print(len(PLAID_PUBLIC_KEY))\n",
    "print(len(PLAID_SBX_SECRET_KEY))"
   ]
  },
  {
   "cell_type": "markdown",
   "metadata": {},
   "source": [
    "# Plaid Access Token\n",
    "\n",
    "In this section, you will use the plaid-python api to generate the correct authentication tokens to access data in the free developer Sandbox. This mimics how you might connect to your own account or a customer account, but due to privacy issues, this homework will only require connecting to and analyzing the fake data from the developer sandbox that Plaid provides. \n",
    "\n",
    "Complete the following steps to generate an access token:\n",
    "1. Create a client to connect to paid\n",
    "2. Use the client to generate a public token and request the following items: \n",
    "['transactions', 'income', 'assets']\n",
    "3. Exchange the public token for an access token\n",
    "4. Test the access token by requesting and printing the available test accounts"
   ]
  },
  {
   "cell_type": "markdown",
   "metadata": {},
   "source": [
    "### 1. Create a client to connect to plaid"
   ]
  },
  {
   "cell_type": "code",
   "execution_count": 5,
   "metadata": {},
   "outputs": [],
   "source": [
    "# Create client object\n",
    "client = plaid.Client(client_id=PLAID_CLIENT_ID, secret=PLAID_SBX_SECRET_KEY, public_key=PLAID_PUBLIC_KEY, environment= 'sandbox')\n",
    "\n"
   ]
  },
  {
   "cell_type": "code",
   "execution_count": null,
   "metadata": {},
   "outputs": [],
   "source": []
  },
  {
   "cell_type": "code",
   "execution_count": 6,
   "metadata": {},
   "outputs": [],
   "source": [
    "#select an institution for processing\n",
    "INSTITUTION_ID = \"ins_109508\"\n",
    "\n",
    "# Create public token to be exchanged for institution access token\n",
    "create_tkn_response = client.Sandbox.public_token.create(INSTITUTION_ID, ['transactions','income','assets'])\n",
    "\n",
    "# Exchange public token for access token\n",
    "exchange_response = client.Item.public_token.exchange(create_tkn_response['public_token'])\n",
    "\n",
    "# Store access token as variable\n",
    "access_token = exchange_response['access_token']\n"
   ]
  },
  {
   "cell_type": "markdown",
   "metadata": {},
   "source": [
    "### 2. Generate a public token"
   ]
  },
  {
   "cell_type": "code",
   "execution_count": null,
   "metadata": {},
   "outputs": [],
   "source": []
  },
  {
   "cell_type": "markdown",
   "metadata": {},
   "source": [
    "### 3. Exchange the public token for an access token"
   ]
  },
  {
   "cell_type": "markdown",
   "metadata": {},
   "source": [
    "### 4. Fetch Accounts"
   ]
  },
  {
   "cell_type": "code",
   "execution_count": 7,
   "metadata": {},
   "outputs": [
    {
     "data": {
      "text/plain": [
       "{'accounts': [{'account_id': 'LEondmk1beC1lX5xlGbKTDK9DedVkVFP8R1KM',\n",
       "   'balances': {'available': 100,\n",
       "    'current': 110,\n",
       "    'iso_currency_code': 'USD',\n",
       "    'limit': None,\n",
       "    'unofficial_currency_code': None},\n",
       "   'mask': '0000',\n",
       "   'name': 'Plaid Checking',\n",
       "   'official_name': 'Plaid Gold Standard 0% Interest Checking',\n",
       "   'subtype': 'checking',\n",
       "   'type': 'depository'},\n",
       "  {'account_id': 'po9ErqBjXQHxqgzoq8EkUQV9Qq51x1TLgWBjd',\n",
       "   'balances': {'available': 200,\n",
       "    'current': 210,\n",
       "    'iso_currency_code': 'USD',\n",
       "    'limit': None,\n",
       "    'unofficial_currency_code': None},\n",
       "   'mask': '1111',\n",
       "   'name': 'Plaid Saving',\n",
       "   'official_name': 'Plaid Silver Standard 0.1% Interest Saving',\n",
       "   'subtype': 'savings',\n",
       "   'type': 'depository'},\n",
       "  {'account_id': 'op98KlzPLeh3l9rpl8GkT46J4PNabauR9zg5P',\n",
       "   'balances': {'available': None,\n",
       "    'current': 1000,\n",
       "    'iso_currency_code': 'USD',\n",
       "    'limit': None,\n",
       "    'unofficial_currency_code': None},\n",
       "   'mask': '2222',\n",
       "   'name': 'Plaid CD',\n",
       "   'official_name': 'Plaid Bronze Standard 0.2% Interest CD',\n",
       "   'subtype': 'cd',\n",
       "   'type': 'depository'},\n",
       "  {'account_id': 'gjkQREgzJxI9vyejvVENHlnEl3mDVDcgDwzRZ',\n",
       "   'balances': {'available': None,\n",
       "    'current': 410,\n",
       "    'iso_currency_code': 'USD',\n",
       "    'limit': 2000,\n",
       "    'unofficial_currency_code': None},\n",
       "   'mask': '3333',\n",
       "   'name': 'Plaid Credit Card',\n",
       "   'official_name': 'Plaid Diamond 12.5% APR Interest Credit Card',\n",
       "   'subtype': 'credit card',\n",
       "   'type': 'credit'},\n",
       "  {'account_id': '8BqanNr5RbHX4Ld74NwrCRnlR8vQdQFwaGMpv',\n",
       "   'balances': {'available': 43200,\n",
       "    'current': 43200,\n",
       "    'iso_currency_code': 'USD',\n",
       "    'limit': None,\n",
       "    'unofficial_currency_code': None},\n",
       "   'mask': '4444',\n",
       "   'name': 'Plaid Money Market',\n",
       "   'official_name': 'Plaid Platinum Standard 1.85% Interest Money Market',\n",
       "   'subtype': 'money market',\n",
       "   'type': 'depository'},\n",
       "  {'account_id': 'EMvoq8QPrdcPy75ByakGFKWVKlq6y6TXQ1Gej',\n",
       "   'balances': {'available': None,\n",
       "    'current': 320.76,\n",
       "    'iso_currency_code': 'USD',\n",
       "    'limit': None,\n",
       "    'unofficial_currency_code': None},\n",
       "   'mask': '5555',\n",
       "   'name': 'Plaid IRA',\n",
       "   'official_name': None,\n",
       "   'subtype': 'ira',\n",
       "   'type': 'investment'},\n",
       "  {'account_id': 'W6zl1axb4WHLR85ZRXk6UpGDpP16B6clMDnyl',\n",
       "   'balances': {'available': None,\n",
       "    'current': 23631.9805,\n",
       "    'iso_currency_code': 'USD',\n",
       "    'limit': None,\n",
       "    'unofficial_currency_code': None},\n",
       "   'mask': '6666',\n",
       "   'name': 'Plaid 401k',\n",
       "   'official_name': None,\n",
       "   'subtype': '401k',\n",
       "   'type': 'investment'},\n",
       "  {'account_id': 'A7pMDLPd9ztd65Zx6lKAU1W41Xyq8qf1wdZJ9',\n",
       "   'balances': {'available': None,\n",
       "    'current': 65262,\n",
       "    'iso_currency_code': 'USD',\n",
       "    'limit': None,\n",
       "    'unofficial_currency_code': None},\n",
       "   'mask': '7777',\n",
       "   'name': 'Plaid Student Loan',\n",
       "   'official_name': None,\n",
       "   'subtype': 'student',\n",
       "   'type': 'loan'}],\n",
       " 'item': {'available_products': ['auth',\n",
       "   'balance',\n",
       "   'credit_details',\n",
       "   'identity',\n",
       "   'investments',\n",
       "   'liabilities'],\n",
       "  'billed_products': ['assets', 'income', 'transactions'],\n",
       "  'error': None,\n",
       "  'institution_id': 'ins_109508',\n",
       "  'item_id': 'd48jyoLqJzhr1KW41VklUnoR6eydrgcZ1BVpA',\n",
       "  'webhook': ''},\n",
       " 'request_id': 'YZUSpt8Ok5rTikk'}"
      ]
     },
     "execution_count": 7,
     "metadata": {},
     "output_type": "execute_result"
    }
   ],
   "source": [
    "# Get accounts associated with institution\n",
    "account_response = client.Accounts.get(access_token)\n",
    "account_response"
   ]
  },
  {
   "cell_type": "markdown",
   "metadata": {},
   "source": [
    "---"
   ]
  },
  {
   "cell_type": "code",
   "execution_count": 8,
   "metadata": {},
   "outputs": [
    {
     "data": {
      "text/plain": [
       "dict_keys(['accounts', 'item', 'request_id'])"
      ]
     },
     "execution_count": 8,
     "metadata": {},
     "output_type": "execute_result"
    }
   ],
   "source": [
    "account_response.keys()"
   ]
  },
  {
   "cell_type": "code",
   "execution_count": null,
   "metadata": {},
   "outputs": [],
   "source": []
  },
  {
   "cell_type": "code",
   "execution_count": null,
   "metadata": {},
   "outputs": [],
   "source": []
  },
  {
   "cell_type": "code",
   "execution_count": null,
   "metadata": {},
   "outputs": [],
   "source": []
  },
  {
   "cell_type": "code",
   "execution_count": null,
   "metadata": {},
   "outputs": [],
   "source": []
  },
  {
   "cell_type": "markdown",
   "metadata": {},
   "source": [
    "# Account Transactions with Plaid\n",
    "\n",
    "In this section, you will use the Plaid Python SDK to connect to the Developer Sandbox account and grab a list of transactions. You will need to complete the following steps:\n",
    "\n",
    "\n",
    "1. Use the access token to fetch the transactions for the last 90 days\n",
    "2. Print the categories for each transaction type\n",
    "3. Create a new DataFrame using the following fields from the JSON transaction data: `date, name, amount, category`. (For categories with more than one label, just use the first category label in the list)\n",
    "4. Convert the data types to the appropriate types (i.e. datetimeindex for the date and float for the amount)"
   ]
  },
  {
   "cell_type": "markdown",
   "metadata": {},
   "source": [
    "### 1. Fetch the Transactions for the last 90 days"
   ]
  },
  {
   "cell_type": "code",
   "execution_count": 10,
   "metadata": {},
   "outputs": [
    {
     "name": "stdout",
     "output_type": "stream",
     "text": [
      "[\n",
      "    {\n",
      "        \"account_id\": \"po9ErqBjXQHxqgzoq8EkUQV9Qq51x1TLgWBjd\",\n",
      "        \"account_owner\": null,\n",
      "        \"amount\": 25,\n",
      "        \"category\": [\n",
      "            \"Payment\",\n",
      "            \"Credit Card\"\n",
      "        ],\n",
      "        \"category_id\": \"16001000\",\n",
      "        \"date\": \"2019-09-18\",\n",
      "        \"iso_currency_code\": \"USD\",\n",
      "        \"location\": {\n",
      "            \"address\": null,\n",
      "            \"city\": null,\n",
      "            \"country\": null,\n",
      "            \"lat\": null,\n",
      "            \"lon\": null,\n",
      "            \"postal_code\": null,\n",
      "            \"region\": null,\n",
      "            \"store_number\": null\n",
      "        },\n",
      "        \"name\": \"CREDIT CARD 3333 PAYMENT *//\",\n",
      "        \"payment_meta\": {\n",
      "            \"by_order_of\": null,\n",
      "            \"payee\": null,\n",
      "            \"payer\": null,\n",
      "            \"payment_method\": null,\n",
      "            \"payment_processor\": null,\n",
      "            \"ppd_id\": null,\n",
      "            \"reason\": null,\n",
      "            \"reference_number\": null\n",
      "        },\n",
      "        \"pending\": false,\n",
      "        \"pending_transaction_id\": null,\n",
      "        \"transaction_id\": \"DZVplgeNwkTNZV5oZ4EbSnG5yVQPqNtv8joJR\",\n",
      "        \"transaction_type\": \"special\",\n",
      "        \"unofficial_currency_code\": null\n",
      "    },\n",
      "    {\n",
      "        \"account_id\": \"LEondmk1beC1lX5xlGbKTDK9DedVkVFP8R1KM\",\n",
      "        \"account_owner\": null,\n",
      "        \"amount\": 5.4,\n",
      "        \"category\": [\n",
      "            \"Travel\",\n",
      "            \"Car Service\",\n",
      "            \"Ride Share\"\n",
      "        ],\n",
      "        \"category_id\": \"22006001\",\n",
      "        \"date\": \"2019-09-18\",\n",
      "        \"iso_currency_code\": \"USD\",\n",
      "        \"location\": {\n",
      "            \"address\": null,\n",
      "            \"city\": null,\n",
      "            \"country\": null,\n",
      "            \"lat\": null,\n",
      "            \"lon\": null,\n",
      "            \"postal_code\": null,\n",
      "            \"region\": null,\n",
      "            \"store_number\": null\n",
      "        },\n",
      "        \"name\": \"Uber 063015 SF**POOL**\",\n",
      "        \"payment_meta\": {\n",
      "            \"by_order_of\": null,\n",
      "            \"payee\": null,\n",
      "            \"payer\": null,\n",
      "            \"payment_method\": null,\n",
      "            \"payment_processor\": null,\n",
      "            \"ppd_id\": null,\n",
      "            \"reason\": null,\n",
      "            \"reference_number\": null\n",
      "        },\n",
      "        \"pending\": false,\n",
      "        \"pending_transaction_id\": null,\n",
      "        \"transaction_id\": \"ym5vP47obEIvP7jbPw9Biy7gkGbxmlSyQVawe\",\n",
      "        \"transaction_type\": \"special\",\n",
      "        \"unofficial_currency_code\": null\n",
      "    }\n",
      "]\n"
     ]
    },
    {
     "data": {
      "text/plain": [
       "dict_keys(['accounts', 'item', 'request_id', 'total_transactions', 'transactions'])"
      ]
     },
     "execution_count": 10,
     "metadata": {},
     "output_type": "execute_result"
    }
   ],
   "source": [
    "# Get transactions for institution for specific date range\n",
    "start_date = '{:%Y-%m-%d}'.format(datetime.datetime.now() + datetime.timedelta(-90))\n",
    "end_date = '{:%Y-%m-%d}'.format(datetime.datetime.now())\n",
    "\n",
    "# Get transactions for date range\n",
    "transaction_response = client.Transactions.get(access_token,start_date,end_date)\n",
    "\n",
    "# Print JSON output\n",
    "print(json.dumps(transaction_response['transactions'][:2],indent=4, sort_keys=True))\n",
    "transaction_response.keys()"
   ]
  },
  {
   "cell_type": "code",
   "execution_count": null,
   "metadata": {},
   "outputs": [],
   "source": []
  },
  {
   "cell_type": "code",
   "execution_count": null,
   "metadata": {},
   "outputs": [],
   "source": []
  },
  {
   "cell_type": "markdown",
   "metadata": {},
   "source": [
    "### 2. Print the categories for each transaction"
   ]
  },
  {
   "cell_type": "code",
   "execution_count": 11,
   "metadata": {},
   "outputs": [
    {
     "name": "stdout",
     "output_type": "stream",
     "text": [
      "{'Travel', 'Restaurants', 'Deposit', 'Gyms and Fitness Centers', 'Food and Drink', 'Shops', 'Transfer', 'Debit', 'Airlines and Aviation Services', 'Credit', 'Sporting Goods', 'Coffee Shop', 'Ride Share', 'Payment', 'Car Service', 'Recreation', 'Credit Card'}\n"
     ]
    }
   ],
   "source": [
    "# Print the categories for each transaction\n",
    "category_info = client.Transactions.get(access_token,start_date,end_date)\n",
    "#if transactions in category_info [\"transactions\"]:\n",
    "    #if transactions ['name'] == \n",
    "#category_info['transactions'][0].key()\n",
    "print({category\n",
    "       for transaction in category_info['transactions'] if transaction['category'] is not None\n",
    "       for category in transaction['category']})\n"
   ]
  },
  {
   "cell_type": "code",
   "execution_count": 12,
   "metadata": {},
   "outputs": [
    {
     "data": {
      "text/html": [
       "<div>\n",
       "<style scoped>\n",
       "    .dataframe tbody tr th:only-of-type {\n",
       "        vertical-align: middle;\n",
       "    }\n",
       "\n",
       "    .dataframe tbody tr th {\n",
       "        vertical-align: top;\n",
       "    }\n",
       "\n",
       "    .dataframe thead th {\n",
       "        text-align: right;\n",
       "    }\n",
       "</style>\n",
       "<table border=\"1\" class=\"dataframe\">\n",
       "  <thead>\n",
       "    <tr style=\"text-align: right;\">\n",
       "      <th></th>\n",
       "      <th>accounts</th>\n",
       "      <th>request_id</th>\n",
       "      <th>total_transactions</th>\n",
       "      <th>transactions</th>\n",
       "      <th>item.available_products</th>\n",
       "      <th>item.billed_products</th>\n",
       "      <th>item.error</th>\n",
       "      <th>item.institution_id</th>\n",
       "      <th>item.item_id</th>\n",
       "      <th>item.webhook</th>\n",
       "    </tr>\n",
       "  </thead>\n",
       "  <tbody>\n",
       "    <tr>\n",
       "      <td>0</td>\n",
       "      <td>[{'account_id': 'LEondmk1beC1lX5xlGbKTDK9DedVk...</td>\n",
       "      <td>WtHxxkKsqcjxw3z</td>\n",
       "      <td>48</td>\n",
       "      <td>[{'account_id': 'po9ErqBjXQHxqgzoq8EkUQV9Qq51x...</td>\n",
       "      <td>[auth, balance, credit_details, identity, inve...</td>\n",
       "      <td>[assets, income, transactions]</td>\n",
       "      <td>None</td>\n",
       "      <td>ins_109508</td>\n",
       "      <td>d48jyoLqJzhr1KW41VklUnoR6eydrgcZ1BVpA</td>\n",
       "      <td></td>\n",
       "    </tr>\n",
       "  </tbody>\n",
       "</table>\n",
       "</div>"
      ],
      "text/plain": [
       "                                            accounts       request_id  \\\n",
       "0  [{'account_id': 'LEondmk1beC1lX5xlGbKTDK9DedVk...  WtHxxkKsqcjxw3z   \n",
       "\n",
       "   total_transactions                                       transactions  \\\n",
       "0                  48  [{'account_id': 'po9ErqBjXQHxqgzoq8EkUQV9Qq51x...   \n",
       "\n",
       "                             item.available_products  \\\n",
       "0  [auth, balance, credit_details, identity, inve...   \n",
       "\n",
       "             item.billed_products item.error item.institution_id  \\\n",
       "0  [assets, income, transactions]       None          ins_109508   \n",
       "\n",
       "                            item.item_id item.webhook  \n",
       "0  d48jyoLqJzhr1KW41VklUnoR6eydrgcZ1BVpA               "
      ]
     },
     "execution_count": 12,
     "metadata": {},
     "output_type": "execute_result"
    }
   ],
   "source": [
    "tracks_df = json_normalize(transaction_response)\n",
    "tracks_df.tail()"
   ]
  },
  {
   "cell_type": "code",
   "execution_count": 13,
   "metadata": {},
   "outputs": [
    {
     "data": {
      "text/html": [
       "<div>\n",
       "<style scoped>\n",
       "    .dataframe tbody tr th:only-of-type {\n",
       "        vertical-align: middle;\n",
       "    }\n",
       "\n",
       "    .dataframe tbody tr th {\n",
       "        vertical-align: top;\n",
       "    }\n",
       "\n",
       "    .dataframe thead th {\n",
       "        text-align: right;\n",
       "    }\n",
       "</style>\n",
       "<table border=\"1\" class=\"dataframe\">\n",
       "  <thead>\n",
       "    <tr style=\"text-align: right;\">\n",
       "      <th></th>\n",
       "      <th>account_id</th>\n",
       "      <th>account_owner</th>\n",
       "      <th>amount</th>\n",
       "      <th>category</th>\n",
       "      <th>category_id</th>\n",
       "      <th>date</th>\n",
       "      <th>iso_currency_code</th>\n",
       "      <th>name</th>\n",
       "      <th>pending</th>\n",
       "      <th>pending_transaction_id</th>\n",
       "      <th>...</th>\n",
       "      <th>location,region</th>\n",
       "      <th>location,store_number</th>\n",
       "      <th>payment_meta,by_order_of</th>\n",
       "      <th>payment_meta,payee</th>\n",
       "      <th>payment_meta,payer</th>\n",
       "      <th>payment_meta,payment_method</th>\n",
       "      <th>payment_meta,payment_processor</th>\n",
       "      <th>payment_meta,ppd_id</th>\n",
       "      <th>payment_meta,reason</th>\n",
       "      <th>payment_meta,reference_number</th>\n",
       "    </tr>\n",
       "  </thead>\n",
       "  <tbody>\n",
       "    <tr>\n",
       "      <td>0</td>\n",
       "      <td>po9ErqBjXQHxqgzoq8EkUQV9Qq51x1TLgWBjd</td>\n",
       "      <td>None</td>\n",
       "      <td>25.0</td>\n",
       "      <td>[Payment, Credit Card]</td>\n",
       "      <td>16001000</td>\n",
       "      <td>2019-09-18</td>\n",
       "      <td>USD</td>\n",
       "      <td>CREDIT CARD 3333 PAYMENT *//</td>\n",
       "      <td>False</td>\n",
       "      <td>None</td>\n",
       "      <td>...</td>\n",
       "      <td>None</td>\n",
       "      <td>None</td>\n",
       "      <td>None</td>\n",
       "      <td>None</td>\n",
       "      <td>None</td>\n",
       "      <td>None</td>\n",
       "      <td>None</td>\n",
       "      <td>None</td>\n",
       "      <td>None</td>\n",
       "      <td>None</td>\n",
       "    </tr>\n",
       "    <tr>\n",
       "      <td>1</td>\n",
       "      <td>LEondmk1beC1lX5xlGbKTDK9DedVkVFP8R1KM</td>\n",
       "      <td>None</td>\n",
       "      <td>5.4</td>\n",
       "      <td>[Travel, Car Service, Ride Share]</td>\n",
       "      <td>22006001</td>\n",
       "      <td>2019-09-18</td>\n",
       "      <td>USD</td>\n",
       "      <td>Uber 063015 SF**POOL**</td>\n",
       "      <td>False</td>\n",
       "      <td>None</td>\n",
       "      <td>...</td>\n",
       "      <td>None</td>\n",
       "      <td>None</td>\n",
       "      <td>None</td>\n",
       "      <td>None</td>\n",
       "      <td>None</td>\n",
       "      <td>None</td>\n",
       "      <td>None</td>\n",
       "      <td>None</td>\n",
       "      <td>None</td>\n",
       "      <td>None</td>\n",
       "    </tr>\n",
       "    <tr>\n",
       "      <td>2</td>\n",
       "      <td>8BqanNr5RbHX4Ld74NwrCRnlR8vQdQFwaGMpv</td>\n",
       "      <td>None</td>\n",
       "      <td>5850.0</td>\n",
       "      <td>[Transfer, Debit]</td>\n",
       "      <td>21006000</td>\n",
       "      <td>2019-09-17</td>\n",
       "      <td>USD</td>\n",
       "      <td>ACH Electronic CreditGUSTO PAY 123456</td>\n",
       "      <td>False</td>\n",
       "      <td>None</td>\n",
       "      <td>...</td>\n",
       "      <td>None</td>\n",
       "      <td>None</td>\n",
       "      <td>None</td>\n",
       "      <td>None</td>\n",
       "      <td>None</td>\n",
       "      <td>ACH</td>\n",
       "      <td>None</td>\n",
       "      <td>None</td>\n",
       "      <td>None</td>\n",
       "      <td>None</td>\n",
       "    </tr>\n",
       "    <tr>\n",
       "      <td>3</td>\n",
       "      <td>op98KlzPLeh3l9rpl8GkT46J4PNabauR9zg5P</td>\n",
       "      <td>None</td>\n",
       "      <td>1000.0</td>\n",
       "      <td>[Transfer, Deposit]</td>\n",
       "      <td>21007000</td>\n",
       "      <td>2019-09-17</td>\n",
       "      <td>USD</td>\n",
       "      <td>CD DEPOSIT .INITIAL.</td>\n",
       "      <td>False</td>\n",
       "      <td>None</td>\n",
       "      <td>...</td>\n",
       "      <td>None</td>\n",
       "      <td>None</td>\n",
       "      <td>None</td>\n",
       "      <td>None</td>\n",
       "      <td>None</td>\n",
       "      <td>None</td>\n",
       "      <td>None</td>\n",
       "      <td>None</td>\n",
       "      <td>None</td>\n",
       "      <td>None</td>\n",
       "    </tr>\n",
       "    <tr>\n",
       "      <td>4</td>\n",
       "      <td>gjkQREgzJxI9vyejvVENHlnEl3mDVDcgDwzRZ</td>\n",
       "      <td>None</td>\n",
       "      <td>78.5</td>\n",
       "      <td>[Recreation, Gyms and Fitness Centers]</td>\n",
       "      <td>17018000</td>\n",
       "      <td>2019-09-16</td>\n",
       "      <td>USD</td>\n",
       "      <td>Touchstone Climbing</td>\n",
       "      <td>False</td>\n",
       "      <td>None</td>\n",
       "      <td>...</td>\n",
       "      <td>None</td>\n",
       "      <td>None</td>\n",
       "      <td>None</td>\n",
       "      <td>None</td>\n",
       "      <td>None</td>\n",
       "      <td>None</td>\n",
       "      <td>None</td>\n",
       "      <td>None</td>\n",
       "      <td>None</td>\n",
       "      <td>None</td>\n",
       "    </tr>\n",
       "  </tbody>\n",
       "</table>\n",
       "<p>5 rows × 29 columns</p>\n",
       "</div>"
      ],
      "text/plain": [
       "                              account_id account_owner  amount  \\\n",
       "0  po9ErqBjXQHxqgzoq8EkUQV9Qq51x1TLgWBjd          None    25.0   \n",
       "1  LEondmk1beC1lX5xlGbKTDK9DedVkVFP8R1KM          None     5.4   \n",
       "2  8BqanNr5RbHX4Ld74NwrCRnlR8vQdQFwaGMpv          None  5850.0   \n",
       "3  op98KlzPLeh3l9rpl8GkT46J4PNabauR9zg5P          None  1000.0   \n",
       "4  gjkQREgzJxI9vyejvVENHlnEl3mDVDcgDwzRZ          None    78.5   \n",
       "\n",
       "                                 category category_id        date  \\\n",
       "0                  [Payment, Credit Card]    16001000  2019-09-18   \n",
       "1       [Travel, Car Service, Ride Share]    22006001  2019-09-18   \n",
       "2                       [Transfer, Debit]    21006000  2019-09-17   \n",
       "3                     [Transfer, Deposit]    21007000  2019-09-17   \n",
       "4  [Recreation, Gyms and Fitness Centers]    17018000  2019-09-16   \n",
       "\n",
       "  iso_currency_code                                   name  pending  \\\n",
       "0               USD           CREDIT CARD 3333 PAYMENT *//    False   \n",
       "1               USD                 Uber 063015 SF**POOL**    False   \n",
       "2               USD  ACH Electronic CreditGUSTO PAY 123456    False   \n",
       "3               USD                   CD DEPOSIT .INITIAL.    False   \n",
       "4               USD                    Touchstone Climbing    False   \n",
       "\n",
       "  pending_transaction_id  ... location,region location,store_number  \\\n",
       "0                   None  ...            None                  None   \n",
       "1                   None  ...            None                  None   \n",
       "2                   None  ...            None                  None   \n",
       "3                   None  ...            None                  None   \n",
       "4                   None  ...            None                  None   \n",
       "\n",
       "  payment_meta,by_order_of payment_meta,payee payment_meta,payer  \\\n",
       "0                     None               None               None   \n",
       "1                     None               None               None   \n",
       "2                     None               None               None   \n",
       "3                     None               None               None   \n",
       "4                     None               None               None   \n",
       "\n",
       "  payment_meta,payment_method payment_meta,payment_processor  \\\n",
       "0                        None                           None   \n",
       "1                        None                           None   \n",
       "2                         ACH                           None   \n",
       "3                        None                           None   \n",
       "4                        None                           None   \n",
       "\n",
       "  payment_meta,ppd_id payment_meta,reason payment_meta,reference_number  \n",
       "0                None                None                          None  \n",
       "1                None                None                          None  \n",
       "2                None                None                          None  \n",
       "3                None                None                          None  \n",
       "4                None                None                          None  \n",
       "\n",
       "[5 rows x 29 columns]"
      ]
     },
     "execution_count": 13,
     "metadata": {},
     "output_type": "execute_result"
    }
   ],
   "source": [
    "tracks_df = json_normalize(category_info,['transactions'],sep=\",\")\n",
    "tracks_df.head() \n"
   ]
  },
  {
   "cell_type": "code",
   "execution_count": 14,
   "metadata": {},
   "outputs": [],
   "source": [
    "tracks_df.drop(columns=['account_id','account_owner','category_id','iso_currency_code', 'pending','pending_transaction_id','location,region','location,store_number','payment_meta,by_order_of','payment_meta,payee','payment_meta,payer','payment_meta,payment_method',\n",
    "                        'payment_meta,payment_processor','payment_meta,ppd_id','payment_meta,reason','payment_meta,reference_number','transaction_id','transaction_type','unofficial_currency_code','location,address','location,city','location,country','location,lat'], inplace= True)\n",
    "              \n",
    "               \n",
    "               ###\n",
    "               \n",
    "               \n",
    "               \n",
    "               \n",
    "               \n",
    "               ##"
   ]
  },
  {
   "cell_type": "raw",
   "metadata": {},
   "source": [
    " tracks_df.dropna"
   ]
  },
  {
   "cell_type": "code",
   "execution_count": 15,
   "metadata": {},
   "outputs": [],
   "source": [
    "tracks_df.head()\n",
    "tracks_df.drop(columns=['transaction_id','transaction_type','unofficial_currency_code','location,address','location,city','location,country','location,lat','location,lon','location,postal_code'], inplace = True)"
   ]
  },
  {
   "cell_type": "markdown",
   "metadata": {},
   "source": [
    "### 3. Create a new DataFrame using the following fields from the JSON transaction data: date, name, amount, category. \n",
    "\n",
    "(For categories with more than one label, just use the first category label in the list)"
   ]
  },
  {
   "cell_type": "code",
   "execution_count": null,
   "metadata": {},
   "outputs": [],
   "source": [
    "\n"
   ]
  },
  {
   "cell_type": "code",
   "execution_count": 20,
   "metadata": {},
   "outputs": [
    {
     "data": {
      "text/html": [
       "<div>\n",
       "<style scoped>\n",
       "    .dataframe tbody tr th:only-of-type {\n",
       "        vertical-align: middle;\n",
       "    }\n",
       "\n",
       "    .dataframe tbody tr th {\n",
       "        vertical-align: top;\n",
       "    }\n",
       "\n",
       "    .dataframe thead th {\n",
       "        text-align: right;\n",
       "    }\n",
       "</style>\n",
       "<table border=\"1\" class=\"dataframe\">\n",
       "  <thead>\n",
       "    <tr style=\"text-align: right;\">\n",
       "      <th></th>\n",
       "      <th>amount</th>\n",
       "      <th>category</th>\n",
       "      <th>name</th>\n",
       "    </tr>\n",
       "    <tr>\n",
       "      <th>date</th>\n",
       "      <th></th>\n",
       "      <th></th>\n",
       "      <th></th>\n",
       "    </tr>\n",
       "  </thead>\n",
       "  <tbody>\n",
       "    <tr>\n",
       "      <td>2019-09-18</td>\n",
       "      <td>25.00</td>\n",
       "      <td>[Payment, Credit Card]</td>\n",
       "      <td>CREDIT CARD 3333 PAYMENT *//</td>\n",
       "    </tr>\n",
       "    <tr>\n",
       "      <td>2019-09-18</td>\n",
       "      <td>5.40</td>\n",
       "      <td>[Travel, Car Service, Ride Share]</td>\n",
       "      <td>Uber 063015 SF**POOL**</td>\n",
       "    </tr>\n",
       "    <tr>\n",
       "      <td>2019-09-17</td>\n",
       "      <td>5850.00</td>\n",
       "      <td>[Transfer, Debit]</td>\n",
       "      <td>ACH Electronic CreditGUSTO PAY 123456</td>\n",
       "    </tr>\n",
       "    <tr>\n",
       "      <td>2019-09-17</td>\n",
       "      <td>1000.00</td>\n",
       "      <td>[Transfer, Deposit]</td>\n",
       "      <td>CD DEPOSIT .INITIAL.</td>\n",
       "    </tr>\n",
       "    <tr>\n",
       "      <td>2019-09-16</td>\n",
       "      <td>78.50</td>\n",
       "      <td>[Recreation, Gyms and Fitness Centers]</td>\n",
       "      <td>Touchstone Climbing</td>\n",
       "    </tr>\n",
       "    <tr>\n",
       "      <td>2019-09-16</td>\n",
       "      <td>-500.00</td>\n",
       "      <td>[Travel, Airlines and Aviation Services]</td>\n",
       "      <td>United Airlines</td>\n",
       "    </tr>\n",
       "    <tr>\n",
       "      <td>2019-09-15</td>\n",
       "      <td>12.00</td>\n",
       "      <td>[Food and Drink, Restaurants]</td>\n",
       "      <td>McDonald's</td>\n",
       "    </tr>\n",
       "    <tr>\n",
       "      <td>2019-09-15</td>\n",
       "      <td>4.33</td>\n",
       "      <td>[Food and Drink, Restaurants, Coffee Shop]</td>\n",
       "      <td>Starbucks</td>\n",
       "    </tr>\n",
       "    <tr>\n",
       "      <td>2019-09-14</td>\n",
       "      <td>89.40</td>\n",
       "      <td>[Food and Drink, Restaurants]</td>\n",
       "      <td>SparkFun</td>\n",
       "    </tr>\n",
       "    <tr>\n",
       "      <td>2019-09-13</td>\n",
       "      <td>-4.22</td>\n",
       "      <td>[Transfer, Credit]</td>\n",
       "      <td>INTRST PYMNT</td>\n",
       "    </tr>\n",
       "    <tr>\n",
       "      <td>2019-09-03</td>\n",
       "      <td>500.00</td>\n",
       "      <td>[Travel, Airlines and Aviation Services]</td>\n",
       "      <td>United Airlines</td>\n",
       "    </tr>\n",
       "    <tr>\n",
       "      <td>2019-09-01</td>\n",
       "      <td>6.33</td>\n",
       "      <td>[Travel, Car Service, Ride Share]</td>\n",
       "      <td>Uber 072515 SF**POOL**</td>\n",
       "    </tr>\n",
       "    <tr>\n",
       "      <td>2019-08-29</td>\n",
       "      <td>500.00</td>\n",
       "      <td>[Food and Drink, Restaurants]</td>\n",
       "      <td>Tectra Inc</td>\n",
       "    </tr>\n",
       "    <tr>\n",
       "      <td>2019-08-28</td>\n",
       "      <td>2078.50</td>\n",
       "      <td>[Payment]</td>\n",
       "      <td>AUTOMATIC PAYMENT - THANK</td>\n",
       "    </tr>\n",
       "    <tr>\n",
       "      <td>2019-08-28</td>\n",
       "      <td>500.00</td>\n",
       "      <td>[Food and Drink, Restaurants]</td>\n",
       "      <td>KFC</td>\n",
       "    </tr>\n",
       "    <tr>\n",
       "      <td>2019-08-28</td>\n",
       "      <td>500.00</td>\n",
       "      <td>[Shops, Sporting Goods]</td>\n",
       "      <td>Madison Bicycle Shop</td>\n",
       "    </tr>\n",
       "    <tr>\n",
       "      <td>2019-08-19</td>\n",
       "      <td>25.00</td>\n",
       "      <td>[Payment, Credit Card]</td>\n",
       "      <td>CREDIT CARD 3333 PAYMENT *//</td>\n",
       "    </tr>\n",
       "    <tr>\n",
       "      <td>2019-08-19</td>\n",
       "      <td>5.40</td>\n",
       "      <td>[Travel, Car Service, Ride Share]</td>\n",
       "      <td>Uber 063015 SF**POOL**</td>\n",
       "    </tr>\n",
       "    <tr>\n",
       "      <td>2019-08-18</td>\n",
       "      <td>5850.00</td>\n",
       "      <td>[Transfer, Debit]</td>\n",
       "      <td>ACH Electronic CreditGUSTO PAY 123456</td>\n",
       "    </tr>\n",
       "    <tr>\n",
       "      <td>2019-08-18</td>\n",
       "      <td>1000.00</td>\n",
       "      <td>[Transfer, Deposit]</td>\n",
       "      <td>CD DEPOSIT .INITIAL.</td>\n",
       "    </tr>\n",
       "  </tbody>\n",
       "</table>\n",
       "</div>"
      ],
      "text/plain": [
       "             amount                                    category  \\\n",
       "date                                                              \n",
       "2019-09-18    25.00                      [Payment, Credit Card]   \n",
       "2019-09-18     5.40           [Travel, Car Service, Ride Share]   \n",
       "2019-09-17  5850.00                           [Transfer, Debit]   \n",
       "2019-09-17  1000.00                         [Transfer, Deposit]   \n",
       "2019-09-16    78.50      [Recreation, Gyms and Fitness Centers]   \n",
       "2019-09-16  -500.00    [Travel, Airlines and Aviation Services]   \n",
       "2019-09-15    12.00               [Food and Drink, Restaurants]   \n",
       "2019-09-15     4.33  [Food and Drink, Restaurants, Coffee Shop]   \n",
       "2019-09-14    89.40               [Food and Drink, Restaurants]   \n",
       "2019-09-13    -4.22                          [Transfer, Credit]   \n",
       "2019-09-03   500.00    [Travel, Airlines and Aviation Services]   \n",
       "2019-09-01     6.33           [Travel, Car Service, Ride Share]   \n",
       "2019-08-29   500.00               [Food and Drink, Restaurants]   \n",
       "2019-08-28  2078.50                                   [Payment]   \n",
       "2019-08-28   500.00               [Food and Drink, Restaurants]   \n",
       "2019-08-28   500.00                     [Shops, Sporting Goods]   \n",
       "2019-08-19    25.00                      [Payment, Credit Card]   \n",
       "2019-08-19     5.40           [Travel, Car Service, Ride Share]   \n",
       "2019-08-18  5850.00                           [Transfer, Debit]   \n",
       "2019-08-18  1000.00                         [Transfer, Deposit]   \n",
       "\n",
       "                                             name  \n",
       "date                                               \n",
       "2019-09-18           CREDIT CARD 3333 PAYMENT *//  \n",
       "2019-09-18                 Uber 063015 SF**POOL**  \n",
       "2019-09-17  ACH Electronic CreditGUSTO PAY 123456  \n",
       "2019-09-17                   CD DEPOSIT .INITIAL.  \n",
       "2019-09-16                    Touchstone Climbing  \n",
       "2019-09-16                        United Airlines  \n",
       "2019-09-15                             McDonald's  \n",
       "2019-09-15                              Starbucks  \n",
       "2019-09-14                               SparkFun  \n",
       "2019-09-13                           INTRST PYMNT  \n",
       "2019-09-03                        United Airlines  \n",
       "2019-09-01                 Uber 072515 SF**POOL**  \n",
       "2019-08-29                             Tectra Inc  \n",
       "2019-08-28              AUTOMATIC PAYMENT - THANK  \n",
       "2019-08-28                                    KFC  \n",
       "2019-08-28                   Madison Bicycle Shop  \n",
       "2019-08-19           CREDIT CARD 3333 PAYMENT *//  \n",
       "2019-08-19                 Uber 063015 SF**POOL**  \n",
       "2019-08-18  ACH Electronic CreditGUSTO PAY 123456  \n",
       "2019-08-18                   CD DEPOSIT .INITIAL.  "
      ]
     },
     "execution_count": 20,
     "metadata": {},
     "output_type": "execute_result"
    }
   ],
   "source": [
    "tracks_df.head(20)"
   ]
  },
  {
   "cell_type": "code",
   "execution_count": null,
   "metadata": {},
   "outputs": [],
   "source": []
  },
  {
   "cell_type": "code",
   "execution_count": null,
   "metadata": {},
   "outputs": [],
   "source": []
  },
  {
   "cell_type": "code",
   "execution_count": null,
   "metadata": {},
   "outputs": [],
   "source": []
  },
  {
   "cell_type": "markdown",
   "metadata": {},
   "source": [
    "### 4. Convert the data types to the appropriate types \n",
    "\n",
    "(i.e. datetimeindex for the date and float for the amount)"
   ]
  },
  {
   "cell_type": "code",
   "execution_count": null,
   "metadata": {},
   "outputs": [],
   "source": [
    "# YOUR CODE HERE"
   ]
  },
  {
   "cell_type": "markdown",
   "metadata": {},
   "source": [
    "---"
   ]
  },
  {
   "cell_type": "markdown",
   "metadata": {},
   "source": [
    "# Income Analysis with Plaid\n",
    "\n",
    "In this section, you will use the Plaid Sandbox to complete the following:\n",
    "1. Determine the previous year's gross income and print the results\n",
    "2. Determine the current monthly income and print the results\n",
    "3. Determine the projected yearly income and print the results"
   ]
  },
  {
   "cell_type": "code",
   "execution_count": null,
   "metadata": {},
   "outputs": [],
   "source": [
    "# YOUR CODE HERE"
   ]
  },
  {
   "cell_type": "markdown",
   "metadata": {},
   "source": [
    "---"
   ]
  },
  {
   "cell_type": "markdown",
   "metadata": {},
   "source": [
    "# Budget Analysis\n",
    "In this section, you will use the transactions DataFrame to analyze the customer's budget\n",
    "\n",
    "1. Calculate the total spending per category and print the results (Hint: groupby or count transactions per category)\n",
    "2. Generate a bar chart with the number of transactions for each category \n",
    "3. Calulate the expenses per month\n",
    "4. Plot the total expenses per month"
   ]
  },
  {
   "cell_type": "markdown",
   "metadata": {},
   "source": [
    "### Calculate the expenses per category"
   ]
  },
  {
   "cell_type": "code",
   "execution_count": null,
   "metadata": {},
   "outputs": [],
   "source": [
    "# YOUR CODE HERE"
   ]
  },
  {
   "cell_type": "markdown",
   "metadata": {},
   "source": [
    "### Calculate the expenses per month"
   ]
  },
  {
   "cell_type": "code",
   "execution_count": null,
   "metadata": {},
   "outputs": [],
   "source": [
    "# YOUR CODE HERE"
   ]
  }
 ],
 "metadata": {
  "kernel_info": {
   "name": "dev"
  },
  "kernelspec": {
   "display_name": "Python 3",
   "language": "python",
   "name": "python3"
  },
  "language_info": {
   "codemirror_mode": {
    "name": "ipython",
    "version": 3
   },
   "file_extension": ".py",
   "mimetype": "text/x-python",
   "name": "python",
   "nbconvert_exporter": "python",
   "pygments_lexer": "ipython3",
   "version": "3.7.3"
  },
  "nteract": {
   "version": "0.12.3"
  }
 },
 "nbformat": 4,
 "nbformat_minor": 4
}
